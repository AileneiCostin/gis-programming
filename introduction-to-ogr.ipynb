{
 "cells": [
  {
   "cell_type": "markdown",
   "id": "5b276b20",
   "metadata": {},
   "source": [
    "Set this variable to your osgeopy-data directory so that the following\n",
    "examples will work without editing. \n",
    "* We'll use the os.path.join() function to combine this directory and the filenames to make a complete path. Of\n",
    "course, you can type the full path to the file for each example if you'd prefer."
   ]
  },
  {
   "cell_type": "code",
   "execution_count": 1,
   "id": "6c1730aa",
   "metadata": {},
   "outputs": [],
   "source": [
    "import os\n",
    "import sys\n",
    "data_dir = r'osgeopy-data'\n",
    "# data_dir ="
   ]
  },
  {
   "cell_type": "markdown",
   "id": "3b2c8e0f",
   "metadata": {},
   "source": [
    "## Introduction"
   ]
  },
  {
   "cell_type": "code",
   "execution_count": 2,
   "id": "492a8978",
   "metadata": {},
   "outputs": [
    {
     "name": "stdout",
     "output_type": "stream",
     "text": [
      "<osgeo.ogr.Driver; proxy of <Swig Object of type 'OGRDriverShadow *' at 0x7f7788600e10> >\n",
      "<osgeo.ogr.Driver; proxy of <Swig Object of type 'OGRDriverShadow *' at 0x7f7788600f00> >\n",
      "None\n"
     ]
    }
   ],
   "source": [
    "# Import the module.\n",
    "from osgeo import ogr\n",
    "\n",
    "# Get the GeoJSON driver.\n",
    "driver = ogr.GetDriverByName('GeoJSON')\n",
    "print(driver)\n",
    "\n",
    "# It's not case sensitive, so this also works.\n",
    "driver = ogr.GetDriverByName('geojson')\n",
    "print(driver)\n",
    "\n",
    "# This does not work because the real name is 'Esri shapefile'.\n",
    "driver = ogr.GetDriverByName('shapefile')\n",
    "print(driver)"
   ]
  },
  {
   "cell_type": "code",
   "execution_count": 3,
   "id": "9156ec58",
   "metadata": {},
   "outputs": [
    {
     "name": "stdout",
     "output_type": "stream",
     "text": [
      "ESRIC (readonly)\n",
      "FITS (read/write)\n",
      "PCIDSK (read/write)\n",
      "netCDF (read/write)\n",
      "PDS4 (read/write)\n",
      "VICAR (read/write)\n",
      "JP2OpenJPEG (readonly)\n",
      "PDF (read/write)\n",
      "MBTiles (read/write)\n",
      "BAG (read/write)\n",
      "EEDA (readonly)\n",
      "OGCAPI (readonly)\n",
      "ESRI Shapefile (read/write)\n",
      "MapInfo File (read/write)\n",
      "UK .NTF (readonly)\n",
      "LVBAG (readonly)\n",
      "OGR_SDTS (readonly)\n",
      "S57 (read/write)\n",
      "DGN (read/write)\n",
      "OGR_VRT (readonly)\n",
      "REC (readonly)\n",
      "Memory (read/write)\n",
      "CSV (read/write)\n",
      "NAS (readonly)\n",
      "GML (read/write)\n",
      "GPX (read/write)\n",
      "LIBKML (read/write)\n",
      "KML (read/write)\n",
      "GeoJSON (read/write)\n",
      "GeoJSONSeq (read/write)\n",
      "ESRIJSON (readonly)\n",
      "TopoJSON (readonly)\n",
      "Interlis 1 (read/write)\n",
      "Interlis 2 (read/write)\n",
      "OGR_GMT (read/write)\n",
      "GPKG (read/write)\n",
      "SQLite (read/write)\n",
      "OGR_DODS (readonly)\n",
      "WAsP (read/write)\n",
      "PostgreSQL (read/write)\n",
      "OpenFileGDB (readonly)\n",
      "DXF (read/write)\n",
      "CAD (readonly)\n",
      "FlatGeobuf (read/write)\n",
      "Geoconcept (read/write)\n",
      "GeoRSS (read/write)\n",
      "GPSTrackMaker (read/write)\n",
      "VFK (readonly)\n",
      "PGDUMP (read/write)\n",
      "OSM (readonly)\n",
      "GPSBabel (read/write)\n",
      "OGR_PDS (readonly)\n",
      "WFS (readonly)\n",
      "OAPIF (readonly)\n",
      "EDIGEO (readonly)\n",
      "SVG (readonly)\n",
      "CouchDB (read/write)\n",
      "Cloudant (read/write)\n",
      "Idrisi (readonly)\n",
      "ARCGEN (readonly)\n",
      "XLS (readonly)\n",
      "ODS (read/write)\n",
      "XLSX (read/write)\n",
      "Elasticsearch (read/write)\n",
      "Carto (read/write)\n",
      "AmigoCloud (read/write)\n",
      "SXF (readonly)\n",
      "Selafin (read/write)\n",
      "JML (read/write)\n",
      "PLSCENES (readonly)\n",
      "CSW (readonly)\n",
      "VDV (read/write)\n",
      "GMLAS (readonly)\n",
      "MVT (read/write)\n",
      "NGW (read/write)\n",
      "MapML (read/write)\n",
      "TIGER (read/write)\n",
      "AVCBin (readonly)\n",
      "AVCE00 (readonly)\n",
      "HTTP (readonly)\n"
     ]
    }
   ],
   "source": [
    "# Print out a list of drivers.\n",
    "import osgeopy as ospy\n",
    "ospy.print_drivers()"
   ]
  },
  {
   "cell_type": "markdown",
   "id": "1f49f2a6",
   "metadata": {},
   "source": [
    "## Reading vector data "
   ]
  },
  {
   "cell_type": "markdown",
   "id": "377176ee",
   "metadata": {},
   "source": [
    "### Accessing specific features"
   ]
  },
  {
   "cell_type": "code",
   "execution_count": 4,
   "id": "4d263cd7",
   "metadata": {},
   "outputs": [
    {
     "name": "stdout",
     "output_type": "stream",
     "text": [
      "Hong Kong\n"
     ]
    }
   ],
   "source": [
    "# Open the data source for the examples.\n",
    "fn = os.path.join(data_dir, 'global', 'ne_50m_populated_places.shp')\n",
    "ds = ogr.Open(fn, 0)\n",
    "if ds is None:\n",
    "    sys.exit('Could not open {0}.'.format(fn))\n",
    "lyr = ds.GetLayer(0)\n",
    "\n",
    "# Get the total number of features and the last one.\n",
    "num_features = lyr.GetFeatureCount()\n",
    "last_feature = lyr.GetFeature(num_features - 1)\n",
    "print(last_feature.NAME)"
   ]
  },
  {
   "cell_type": "markdown",
   "id": "25efd3d7",
   "metadata": {},
   "source": [
    "#### Test what happens if you try to loop through a layer twice."
   ]
  },
  {
   "cell_type": "code",
   "execution_count": 5,
   "id": "9d6c2a7c",
   "metadata": {},
   "outputs": [
    {
     "name": "stdout",
     "output_type": "stream",
     "text": [
      "First loop\n",
      "Bellingham 67171\n",
      "Everett 91488\n",
      "Shoreline 53025\n",
      "Seattle 563374\n",
      "Bellevue 109569\n",
      "Renton 50052\n",
      "Kent 79524\n",
      "Federal Way 83259\n",
      "Tacoma 193556\n",
      "Spokane 195629\n",
      "Yakima 71845\n",
      "Vancouver 143560\n",
      "Kennewick 54693\n",
      "Second loop\n",
      "Bellingham -122.48822021484375 48.759552001953125\n",
      "Everett -122.20207214355469 47.97898864746094\n",
      "Shoreline -122.34152221679688 47.75564956665039\n",
      "Seattle -122.33206939697266 47.6062126159668\n",
      "Bellevue -122.20067596435547 47.610382080078125\n",
      "Renton -122.2170639038086 47.482879638671875\n",
      "Kent -122.2348403930664 47.38093185424805\n",
      "Federal Way -122.31262969970703 47.32231903076172\n",
      "Tacoma -122.44429779052734 47.25288009643555\n",
      "Spokane -117.4260482788086 47.658782958984375\n",
      "Yakima -120.50589752197266 46.60206604003906\n",
      "Vancouver -122.66148376464844 45.638729095458984\n",
      "Kennewick -119.1372299194336 46.211246490478516\n",
      "First loop\n",
      "Bellingham 67171\n",
      "Everett 91488\n",
      "Shoreline 53025\n",
      "Seattle 563374\n",
      "Bellevue 109569\n",
      "Renton 50052\n",
      "Kent 79524\n",
      "Federal Way 83259\n",
      "Tacoma 193556\n",
      "Spokane 195629\n",
      "Yakima 71845\n",
      "Vancouver 143560\n",
      "Kennewick 54693\n",
      "Second loop\n",
      "Bellingham -122.48822021484375 48.759552001953125\n",
      "Everett -122.20207214355469 47.97898864746094\n",
      "Shoreline -122.34152221679688 47.75564956665039\n",
      "Seattle -122.33206939697266 47.6062126159668\n",
      "Bellevue -122.20067596435547 47.610382080078125\n",
      "Renton -122.2170639038086 47.482879638671875\n",
      "Kent -122.2348403930664 47.38093185424805\n",
      "Federal Way -122.31262969970703 47.32231903076172\n",
      "Tacoma -122.44429779052734 47.25288009643555\n",
      "Spokane -117.4260482788086 47.658782958984375\n",
      "Yakima -120.50589752197266 46.60206604003906\n",
      "Vancouver -122.66148376464844 45.638729095458984\n",
      "Kennewick -119.1372299194336 46.211246490478516\n"
     ]
    }
   ],
   "source": [
    "#The second loop should not print anything.\n",
    "fn = os.path.join(data_dir, 'washington', 'large_cities.geojson')\n",
    "#print(fn)\n",
    "ds = ogr.Open(fn, 0)\n",
    "lyr = ds.GetLayer(0)\n",
    "print('First loop')\n",
    "for feat in lyr:\n",
    "    print(feat.GetField('Name'), feat.GetField('Population'))\n",
    "print('Second loop')\n",
    "for feat in lyr:\n",
    "    pt = feat.geometry()\n",
    "    print(feat.GetField('Name'), pt.GetX(), pt.GetY())\n",
    "\n",
    "# # But it will if you reset reading first.\n",
    "ds = ogr.Open(fn, 0)\n",
    "lyr = ds.GetLayer(0)\n",
    "print('First loop')\n",
    "for feat in lyr:\n",
    "    print(feat.GetField('Name'), feat.GetField('Population'))\n",
    "print('Second loop')\n",
    "lyr.ResetReading() # This is the important line.\n",
    "for feat in lyr:\n",
    "    pt = feat.geometry()\n",
    "    print(feat.GetField('Name'), pt.GetX(), pt.GetY())"
   ]
  },
  {
   "cell_type": "markdown",
   "id": "70d4cf7a",
   "metadata": {},
   "source": [
    "### Extract certain features from a shapefile and save them to another file."
   ]
  },
  {
   "cell_type": "code",
   "execution_count": 6,
   "id": "df125e04",
   "metadata": {},
   "outputs": [],
   "source": [
    "import sys\n",
    "from osgeo import ogr\n",
    "\n",
    "# Open the folder data source for writing\n",
    "ds = ogr.Open(r'osgeopy-data/global', 1)\n",
    "if ds is None:\n",
    "    sys.exit('Could not open folder.')\n",
    "\n",
    "# Get the input shapefile\n",
    "in_lyr = ds.GetLayer('ne_50m_populated_places')\n",
    "\n",
    "# Create a point layer\n",
    "if ds.GetLayer('capital_cities'):\n",
    "    ds.DeleteLayer('capital_cities')\n",
    "out_lyr = ds.CreateLayer('capital_cities',\n",
    "                         in_lyr.GetSpatialRef(),\n",
    "                         ogr.wkbPoint)\n",
    "out_lyr.CreateFields(in_lyr.schema)\n",
    "\n",
    "# Create a blank feature\n",
    "out_defn = out_lyr.GetLayerDefn()\n",
    "out_feat = ogr.Feature(out_defn)\n",
    "\n",
    "for in_feat in in_lyr:\n",
    "    if in_feat.GetField('FEATURECLA') == 'Admin-0 capital':\n",
    "\n",
    "        # Copy geometry and attributes\n",
    "        geom = in_feat.geometry()\n",
    "        out_feat.SetGeometry(geom)\n",
    "        for i in range(in_feat.GetFieldCount()):\n",
    "            value = in_feat.GetField(i)\n",
    "            out_feat.SetField(i, value)\n",
    "\n",
    "        # Insert the feature\n",
    "        out_lyr.CreateFeature(out_feat)\n",
    "\n",
    "# Close files\n",
    "del ds"
   ]
  },
  {
   "cell_type": "markdown",
   "id": "26102e65",
   "metadata": {},
   "source": [
    "### Viewing your data "
   ]
  },
  {
   "cell_type": "code",
   "execution_count": 7,
   "id": "71dfc2e7",
   "metadata": {},
   "outputs": [
    {
     "name": "stdout",
     "output_type": "stream",
     "text": [
      "FID    Geometry                  NAME           POP_MAX    \n",
      "0      POINT (32.533, 0.583)     Bombo          75000      \n",
      "1      POINT (30.275, 0.671)     Fort Portal    42670      \n",
      "2      POINT (15.799, 40.642)    Potenza        69060      \n",
      "3 of 1249 features\n"
     ]
    }
   ],
   "source": [
    "# Print name and population attributes.\n",
    "import osgeopy as ospy\n",
    "\n",
    "fn = os.path.join(data_dir, 'global', 'ne_50m_populated_places.shp')\n",
    "ospy.print_attributes(fn, 3, ['NAME', 'POP_MAX'])\n",
    "\n"
   ]
  },
  {
   "cell_type": "markdown",
   "id": "e4d85a37",
   "metadata": {},
   "source": [
    "## Getting metadata"
   ]
  },
  {
   "cell_type": "code",
   "execution_count": 10,
   "id": "d98a3873",
   "metadata": {},
   "outputs": [
    {
     "name": "stdout",
     "output_type": "stream",
     "text": [
      "(-122.66148376464844, -117.4260482788086, 45.638729095458984, 48.759552001953125)\n",
      "Upper left corner: -122.66148376464844, 48.759552001953125\n",
      "Lower right corner: -117.4260482788086, 45.638729095458984\n",
      "1\n",
      "True\n",
      "False\n",
      "POINT\n",
      "GEOGCS[\"NAD83\",\n",
      "    DATUM[\"North_American_Datum_1983\",\n",
      "        SPHEROID[\"GRS 1980\",6378137,298.257222101,\n",
      "            AUTHORITY[\"EPSG\",\"7019\"]],\n",
      "        AUTHORITY[\"EPSG\",\"6269\"]],\n",
      "    PRIMEM[\"Greenwich\",0,\n",
      "        AUTHORITY[\"EPSG\",\"8901\"]],\n",
      "    UNIT[\"degree\",0.0174532925199433,\n",
      "        AUTHORITY[\"EPSG\",\"9122\"]],\n",
      "    AXIS[\"Latitude\",NORTH],\n",
      "    AXIS[\"Longitude\",EAST],\n",
      "    AUTHORITY[\"EPSG\",\"4269\"]]\n",
      "CITIESX020 Integer\n",
      "FEATURE String\n",
      "NAME String\n",
      "POP_RANGE String\n",
      "POPULATION Integer\n",
      "FIPS55 String\n",
      "COUNTY String\n",
      "FIPS String\n",
      "STATE String\n",
      "STATE_FIPS String\n",
      "DISPLAY Integer\n"
     ]
    }
   ],
   "source": [
    "# Open the large_cities data source.\n",
    "fn = os.path.join(data_dir, 'washington', 'large_cities.geojson')\n",
    "ds = ogr.Open(fn)\n",
    "if ds is None:\n",
    "    sys.exit('Could not open {0}.'.format(fn))\n",
    "\n",
    "# Get the spatial extent.\n",
    "lyr = ds.GetLayer(0)\n",
    "extent = lyr.GetExtent()\n",
    "print(extent)\n",
    "print('Upper left corner: {}, {}'.format(extent[0], extent[3]))\n",
    "print('Lower right corner: {}, {}'.format(extent[1], extent[2]))\n",
    "\n",
    "# Get geometry type\n",
    "print(lyr.GetGeomType())\n",
    "print(lyr.GetGeomType() == ogr.wkbPoint)\n",
    "print(lyr.GetGeomType() == ogr.wkbPolygon)\n",
    "\n",
    "# Get geometry type as human-readable string.\n",
    "feat = lyr.GetFeature(0)\n",
    "print(feat.geometry().GetGeometryName())\n",
    "\n",
    "# Get spatial reference system. The output is also in listing3_2.py.\n",
    "print(lyr.GetSpatialRef())\n",
    "\n",
    "# Get field names and types\n",
    "for field in lyr.schema:\n",
    "    print(field.name, field.GetTypeName())"
   ]
  },
  {
   "cell_type": "markdown",
   "id": "3740da12",
   "metadata": {},
   "source": [
    "## Using OGR exceptions"
   ]
  },
  {
   "cell_type": "code",
   "execution_count": 12,
   "id": "28d50509",
   "metadata": {},
   "outputs": [
    {
     "name": "stdout",
     "output_type": "stream",
     "text": [
      "Doing some preliminary analysis...\n",
      "Failed to create GeoJSON datasource: osgeopy-data/output/africa.geojson: osgeopy-data/output/africa.geojson: No such file or directory\n",
      "Doing some more analysis...\n"
     ]
    }
   ],
   "source": [
    "# Try running this when output/africa.geojson already exists in order to raise\n",
    "# the error.\n",
    "\n",
    "# Turn on OGR exceptions. Try commenting this out to see how the behavior\n",
    "# changes.\n",
    "ogr.UseExceptions()\n",
    "\n",
    "fn = os.path.join(data_dir, 'output', 'africa.geojson')\n",
    "driver = ogr.GetDriverByName('GeoJSON')\n",
    "print('Doing some preliminary analysis...')\n",
    "\n",
    "try:\n",
    "    # This will fail if the file already exists\n",
    "    ds = driver.CreateDataSource(fn)\n",
    "    lyr = ds.CreateLayer('layer')\n",
    "    # Do more stuff, like fields and save data\n",
    "except RuntimeError as e:\n",
    "    # This runs if the data source already exists and an error was raised\n",
    "    print(e)\n",
    "\n",
    "print('Doing some more analysis...')"
   ]
  },
  {
   "cell_type": "code",
   "execution_count": null,
   "id": "27048bfd",
   "metadata": {},
   "outputs": [],
   "source": []
  }
 ],
 "metadata": {
  "kernelspec": {
   "display_name": "Python 3 (ipykernel)",
   "language": "python",
   "name": "python3"
  },
  "language_info": {
   "codemirror_mode": {
    "name": "ipython",
    "version": 3
   },
   "file_extension": ".py",
   "mimetype": "text/x-python",
   "name": "python",
   "nbconvert_exporter": "python",
   "pygments_lexer": "ipython3",
   "version": "3.9.7"
  }
 },
 "nbformat": 4,
 "nbformat_minor": 5
}
