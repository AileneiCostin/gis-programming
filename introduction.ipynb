{
 "cells": [
  {
   "cell_type": "markdown",
   "id": "225bea94",
   "metadata": {},
   "source": [
    "## 1. Basics"
   ]
  },
  {
   "cell_type": "code",
   "execution_count": 1,
   "id": "6a774df9",
   "metadata": {},
   "outputs": [
    {
     "data": {
      "text/plain": [
       "10"
      ]
     },
     "execution_count": 1,
     "metadata": {},
     "output_type": "execute_result"
    }
   ],
   "source": [
    "# Creating a variable\n",
    "n = 10\n",
    "n"
   ]
  },
  {
   "cell_type": "code",
   "execution_count": 2,
   "id": "33223cfe",
   "metadata": {},
   "outputs": [
    {
     "data": {
      "text/plain": [
       "'Hello world'"
      ]
     },
     "execution_count": 2,
     "metadata": {},
     "output_type": "execute_result"
    }
   ],
   "source": [
    "# Changing n from integer to string\n",
    "n = 'Hello world'\n",
    "n"
   ]
  },
  {
   "cell_type": "code",
   "execution_count": 4,
   "id": "00e2b7bb",
   "metadata": {},
   "outputs": [
    {
     "ename": "TypeError",
     "evalue": "can only concatenate str (not \"int\") to str",
     "output_type": "error",
     "traceback": [
      "\u001b[0;31m---------------------------------------------------------------------------\u001b[0m",
      "\u001b[0;31mTypeError\u001b[0m                                 Traceback (most recent call last)",
      "\u001b[0;32m/tmp/ipykernel_26505/1110864369.py\u001b[0m in \u001b[0;36m<module>\u001b[0;34m\u001b[0m\n\u001b[1;32m      1\u001b[0m \u001b[0;31m# Attempt to add a string (n) and integer together\u001b[0m\u001b[0;34m\u001b[0m\u001b[0;34m\u001b[0m\u001b[0m\n\u001b[0;32m----> 2\u001b[0;31m \u001b[0mmsg\u001b[0m \u001b[0;34m=\u001b[0m \u001b[0mn\u001b[0m \u001b[0;34m+\u001b[0m \u001b[0;36m1\u001b[0m\u001b[0;34m\u001b[0m\u001b[0;34m\u001b[0m\u001b[0m\n\u001b[0m",
      "\u001b[0;31mTypeError\u001b[0m: can only concatenate str (not \"int\") to str"
     ]
    }
   ],
   "source": [
    "# Attempt to add a string (n) and integer together\n",
    "msg = n + 1"
   ]
  },
  {
   "cell_type": "code",
   "execution_count": 6,
   "id": "f695a2b9",
   "metadata": {},
   "outputs": [
    {
     "name": "stdout",
     "output_type": "stream",
     "text": [
      "True\n",
      "False\n"
     ]
    }
   ],
   "source": [
    "# Test for equality\n",
    "n = 10\n",
    "print(n == 10)\n",
    "print(n == 15)"
   ]
  },
  {
   "cell_type": "markdown",
   "id": "677e017a",
   "metadata": {},
   "source": [
    "## 1.2. Data types"
   ]
  },
  {
   "cell_type": "markdown",
   "id": "2143742f",
   "metadata": {},
   "source": [
    "### 1.2.1 Booleans"
   ]
  },
  {
   "cell_type": "code",
   "execution_count": 7,
   "id": "13cc002e",
   "metadata": {},
   "outputs": [
    {
     "name": "stdout",
     "output_type": "stream",
     "text": [
      "True\n",
      "True\n",
      "False\n",
      "True\n"
     ]
    }
   ],
   "source": [
    "print(True or False)\n",
    "print(not False)\n",
    "print(True and False)\n",
    "print(True and not False)"
   ]
  },
  {
   "cell_type": "markdown",
   "id": "4ab738ee",
   "metadata": {},
   "source": [
    "### 1.2.2 Numeric types"
   ]
  },
  {
   "cell_type": "code",
   "execution_count": 8,
   "id": "10338164",
   "metadata": {},
   "outputs": [
    {
     "name": "stdout",
     "output_type": "stream",
     "text": [
      "3.857142857142857\n",
      "3.857142857142857\n",
      "3.857142857142857\n",
      "3.857142857142857\n",
      "3\n",
      "27.0\n",
      "27\n",
      "28\n"
     ]
    }
   ],
   "source": [
    "print(27 / 7) # Integer (Python 2.7) or floating point (Python 3) math\n",
    "print(27.0 / 7.0) # Floating point math in both\n",
    "print(27 / 7.0) # Floating point math in both\n",
    "\n",
    "print(27 / 7) # Integer (Python 2.7) or floating point (Python 3) math\n",
    "print(27 // 7) # Force integer point math in Python 3\n",
    "\n",
    "# Convert between integer and float\n",
    "print(float(27))\n",
    "print(int(27.9))\n",
    "\n",
    "print(round(27.9))"
   ]
  },
  {
   "cell_type": "markdown",
   "id": "17d468a0",
   "metadata": {},
   "source": [
    "### 1.2.3 Strings"
   ]
  },
  {
   "cell_type": "code",
   "execution_count": 9,
   "id": "a1a05874",
   "metadata": {},
   "outputs": [
    {
     "ename": "SyntaxError",
     "evalue": "invalid syntax (508683618.py, line 9)",
     "output_type": "error",
     "traceback": [
      "\u001b[0;36m  File \u001b[0;32m\"/tmp/ipykernel_26505/508683618.py\"\u001b[0;36m, line \u001b[0;32m9\u001b[0m\n\u001b[0;31m    print('Don't panic!')\u001b[0m\n\u001b[0m               ^\u001b[0m\n\u001b[0;31mSyntaxError\u001b[0m\u001b[0;31m:\u001b[0m invalid syntax\n"
     ]
    }
   ],
   "source": [
    "s = 'Hello world'\n",
    "print(s)\n",
    "\n",
    "# String that contains quotes\n",
    "sql = \"SELECT * FROM cities WHERE country = 'Canada'\"\n",
    "print(sql)\n",
    "\n",
    "# Does not work because the first single quote ends the string\n",
    "print('Don't panic!')\n",
    "\n",
    "# This one works because the backslash tells Python to include it in the string\n",
    "print('Don\\'t panic!')\n",
    "\n",
    "# Join two strings\n",
    "s = 'Beam me up ' + 'Scotty'\n",
    "print(s)\n",
    "\n",
    "# Formatting strings using indexes in the placeholders\n",
    "print('I wish I were as smart as {0} {1}'.format('Albert', 'Einstein'))\n",
    "print('I wish I were as smart as {1}, {0}'.format('Albert', 'Einstein'))\n",
    "\n",
    "# Escape characters (\\t means tab, \\n means newline)\n",
    "print('Title:\\tMoby Dick\\nAuthor:\\tHerman Melville')"
   ]
  },
  {
   "cell_type": "markdown",
   "id": "af3e57da",
   "metadata": {},
   "source": [
    "#### Windows filenames"
   ]
  },
  {
   "cell_type": "code",
   "execution_count": 10,
   "id": "e90386ed",
   "metadata": {},
   "outputs": [
    {
     "name": "stdout",
     "output_type": "stream",
     "text": [
      "False\n",
      "d:\temp\\cities.csv\n",
      "False\n",
      "False\n",
      "False\n"
     ]
    }
   ],
   "source": [
    "# Import the os module for the next couple of Windows examples\n",
    "import os\n",
    "\n",
    "# Backslashes in Windows filenames\n",
    "# Change the path to a file that exists on your Windows machine so that there\n",
    "# is a \\t in the path (so a temp folder is good)\n",
    "print(os.path.exists('d:\\temp\\cities.csv'))\n",
    "\n",
    "# To see what Python thinks you're saying\n",
    "print('d:\\temp\\cities.csv')\n",
    "\n",
    "# Three ways to fix the problem\n",
    "print(os.path.exists('d:/temp/cities.csv')) # Use forward slashes instead\n",
    "print(os.path.exists('d:\\\\temp\\\\cities.csv')) # Use double-backslashes\n",
    "print(os.path.exists(r'd:\\temp\\cities.csv')) # Prefix the string with r"
   ]
  },
  {
   "cell_type": "markdown",
   "id": "94ed9b11",
   "metadata": {},
   "source": [
    "### 1.2.4 Lists and tuples"
   ]
  },
  {
   "cell_type": "code",
   "execution_count": 11,
   "id": "bd589258",
   "metadata": {},
   "outputs": [
    {
     "name": "stdout",
     "output_type": "stream",
     "text": [
      "[5, 'Bob', 'yellow', -43, 'cat']\n",
      "5\n",
      "yellow\n",
      "cat\n",
      "yellow\n",
      "['Bob', 'yellow']\n",
      "['Bob', 'yellow', -43]\n",
      "[5, 'Bob', 'red', -43, 'cat']\n",
      "[2, 'Mary', 'red', -43, 'cat']\n",
      "[2, 'Mary', 'red', -43, 'cat', 'dog']\n",
      "[2, 'red', -43, 'cat', 'dog']\n",
      "5\n",
      "True\n",
      "False\n",
      "(5, 'Bob', 'yellow', -43, 'cat')\n",
      "yellow\n",
      "yellow\n",
      "('Bob', 'yellow')\n",
      "5\n",
      "True\n"
     ]
    },
    {
     "ename": "TypeError",
     "evalue": "'tuple' object does not support item assignment",
     "output_type": "error",
     "traceback": [
      "\u001b[0;31m---------------------------------------------------------------------------\u001b[0m",
      "\u001b[0;31mTypeError\u001b[0m                                 Traceback (most recent call last)",
      "\u001b[0;32m/tmp/ipykernel_26505/2695705282.py\u001b[0m in \u001b[0;36m<module>\u001b[0;34m\u001b[0m\n\u001b[1;32m     44\u001b[0m \u001b[0;34m\u001b[0m\u001b[0m\n\u001b[1;32m     45\u001b[0m \u001b[0;31m# Try, and fail, to change a value of a tuple\u001b[0m\u001b[0;34m\u001b[0m\u001b[0;34m\u001b[0m\u001b[0m\n\u001b[0;32m---> 46\u001b[0;31m \u001b[0mdata\u001b[0m\u001b[0;34m[\u001b[0m\u001b[0;36m0\u001b[0m\u001b[0;34m]\u001b[0m \u001b[0;34m=\u001b[0m \u001b[0;36m10\u001b[0m\u001b[0;34m\u001b[0m\u001b[0;34m\u001b[0m\u001b[0m\n\u001b[0m",
      "\u001b[0;31mTypeError\u001b[0m: 'tuple' object does not support item assignment"
     ]
    }
   ],
   "source": [
    "# Create a list\n",
    "data = [5, 'Bob', 'yellow', -43, 'cat']\n",
    "print(data)\n",
    "\n",
    "# Get stuff out of it by index\n",
    "print(data[0])\n",
    "print(data[2])\n",
    "print(data[-1])\n",
    "print(data[-3])\n",
    "\n",
    "# Get sublists\n",
    "print(data[1:3])\n",
    "print(data[-4:-1])\n",
    "\n",
    "# Change list values\n",
    "data[2] = 'red'\n",
    "print(data)\n",
    "data[0:2] = [2, 'Mary']\n",
    "print(data)\n",
    "\n",
    "# Append and delete values\n",
    "data.append('dog')\n",
    "print(data)\n",
    "del data[1]\n",
    "print(data)\n",
    "\n",
    "# Get the length of a list\n",
    "print(len(data))\n",
    "\n",
    "# Find out if values are in a list\n",
    "print(2 in data)\n",
    "print('Mary' in data)\n",
    "\n",
    "# Create a tuple and get values out of ities\n",
    "data = (5, 'Bob', 'yellow', -43, 'cat')\n",
    "print(data)\n",
    "print(data[2])\n",
    "print(data[-3])\n",
    "print(data[1:3])\n",
    "\n",
    "# Get the length of a tuple and check if it contains a value\n",
    "print(len(data))\n",
    "print('Bob' in data)\n",
    "\n",
    "# Try, and fail, to change a value of a tuple\n",
    "data[0] = 10"
   ]
  },
  {
   "cell_type": "markdown",
   "id": "2be3764e",
   "metadata": {},
   "source": [
    "#### Error messages are your friend"
   ]
  },
  {
   "cell_type": "code",
   "execution_count": 12,
   "id": "5a89934d",
   "metadata": {},
   "outputs": [
    {
     "ename": "TypeError",
     "evalue": "'tuple' object does not support item assignment",
     "output_type": "error",
     "traceback": [
      "\u001b[0;31m---------------------------------------------------------------------------\u001b[0m",
      "\u001b[0;31mTypeError\u001b[0m                                 Traceback (most recent call last)",
      "\u001b[0;32m/tmp/ipykernel_26505/1054539302.py\u001b[0m in \u001b[0;36m<module>\u001b[0;34m\u001b[0m\n\u001b[1;32m      1\u001b[0m \u001b[0;31m# This will cause an error because you cannot change the value of a tuple\u001b[0m\u001b[0;34m\u001b[0m\u001b[0;34m\u001b[0m\u001b[0m\n\u001b[1;32m      2\u001b[0m \u001b[0mdata\u001b[0m \u001b[0;34m=\u001b[0m \u001b[0;34m(\u001b[0m\u001b[0;36m5\u001b[0m\u001b[0;34m,\u001b[0m \u001b[0;34m'Bob'\u001b[0m\u001b[0;34m,\u001b[0m \u001b[0;34m'yellow'\u001b[0m\u001b[0;34m,\u001b[0m \u001b[0;34m-\u001b[0m\u001b[0;36m43\u001b[0m\u001b[0;34m,\u001b[0m \u001b[0;34m'cat'\u001b[0m\u001b[0;34m)\u001b[0m\u001b[0;34m\u001b[0m\u001b[0;34m\u001b[0m\u001b[0m\n\u001b[0;32m----> 3\u001b[0;31m \u001b[0mdata\u001b[0m\u001b[0;34m[\u001b[0m\u001b[0;36m0\u001b[0m\u001b[0;34m]\u001b[0m \u001b[0;34m=\u001b[0m \u001b[0;36m10\u001b[0m\u001b[0;34m\u001b[0m\u001b[0;34m\u001b[0m\u001b[0m\n\u001b[0m\u001b[1;32m      4\u001b[0m \u001b[0;34m\u001b[0m\u001b[0m\n\u001b[1;32m      5\u001b[0m \u001b[0;31m# Function that the next two examples use. It takes two values as parameters\u001b[0m\u001b[0;34m\u001b[0m\u001b[0;34m\u001b[0m\u001b[0m\n",
      "\u001b[0;31mTypeError\u001b[0m: 'tuple' object does not support item assignment"
     ]
    }
   ],
   "source": [
    "# This will cause an error because you cannot change the value of a tuple\n",
    "data = (5, 'Bob', 'yellow', -43, 'cat')\n",
    "data[0] = 10\n",
    "\n",
    "# Function that the next two examples use. It takes two values as parameters\n",
    "# and returns their sum.\n",
    "def add(n1, n2):\n",
    "  return n1 + n2\n",
    "\n",
    "# This one will work\n",
    "x = add(3, 5)\n",
    "print(x)\n",
    "\n",
    "# This one fails because '1' is a string, which cannot be added to a number (x)\n",
    "y = add(x, '1')\n",
    "print(y)"
   ]
  },
  {
   "cell_type": "markdown",
   "id": "0d915eb0",
   "metadata": {},
   "source": [
    "### 1.2.5 Sets"
   ]
  },
  {
   "cell_type": "code",
   "execution_count": 13,
   "id": "3010960f",
   "metadata": {},
   "outputs": [
    {
     "name": "stdout",
     "output_type": "stream",
     "text": [
      "{'movie', 13, 'book', 6}\n",
      "{'game', 6, 13, 'movie', 'book'}\n",
      "True\n",
      "{'game', 6, 42, 13, 'movie', '6', 'book'}\n",
      "{'game', 6}\n"
     ]
    }
   ],
   "source": [
    "# Create a set\n",
    "data = set(['book', 6, 13, 13, 'movie'])\n",
    "print(data)\n",
    "\n",
    "# Add stuff to the set; 'movie' will not be added again\n",
    "data.add('movie')\n",
    "data.add('game')\n",
    "print(data)\n",
    "\n",
    "# Check if a value is in the set\n",
    "print(13 in data)\n",
    "\n",
    "# Create another set and union and intersect it with the first set\n",
    "info = set(['6', 6, 'game', 42])\n",
    "print(data.union(info)) # All values from both sets\n",
    "print(data.intersection(info)) # Only values contained in both"
   ]
  },
  {
   "cell_type": "markdown",
   "id": "3d8444e3",
   "metadata": {},
   "source": [
    "### 1.2.6 Dictionaries"
   ]
  },
  {
   "cell_type": "code",
   "execution_count": 14,
   "id": "bf8ec3b6",
   "metadata": {},
   "outputs": [
    {
     "name": "stdout",
     "output_type": "stream",
     "text": [
      "{'color': 'red', 'lucky number': 42, 1: 'one'}\n",
      "one\n",
      "42\n",
      "{'color': 'red', 'lucky number': 42, 1: 'one', 5: 'candy'}\n",
      "{'color': 'green', 'lucky number': 42, 1: 'one', 5: 'candy'}\n",
      "{'color': 'green', 'lucky number': 42, 5: 'candy'}\n",
      "True\n"
     ]
    }
   ],
   "source": [
    "# Create a dictionary and get values out of it\n",
    "data = {'color': 'red', 'lucky number': 42, 1: 'one'}\n",
    "print(data)\n",
    "print(data[1])\n",
    "print(data['lucky number'])\n",
    "\n",
    "# Add a value\n",
    "data[5] = 'candy'\n",
    "print(data)\n",
    "\n",
    "# Change a value\n",
    "data['color'] = 'green'\n",
    "print(data)\n",
    "\n",
    "# Delete a value\n",
    "del data[1]\n",
    "print(data)\n",
    "\n",
    "# Check if a key is in the dictionary\n",
    "print('color' in data)"
   ]
  },
  {
   "cell_type": "markdown",
   "id": "f43a3371",
   "metadata": {},
   "source": [
    "## 2. Flow of control"
   ]
  },
  {
   "cell_type": "markdown",
   "id": "309aec66",
   "metadata": {},
   "source": [
    "### 2.1 If statements"
   ]
  },
  {
   "cell_type": "code",
   "execution_count": 15,
   "id": "206a6308",
   "metadata": {},
   "outputs": [
    {
     "name": "stdout",
     "output_type": "stream",
     "text": [
      "n equals 1\n",
      "This is not part of the condition\n",
      "what is n?\n",
      "a blank string acts like false\n",
      "a non-empty list acts like True\n"
     ]
    }
   ],
   "source": [
    "# Print a different message depending on the value of n. Try changing the value\n",
    "# of n.\n",
    "n = 1\n",
    "if n == 1:\n",
    "    print('n equals 1')\n",
    "else:\n",
    "    print('n does not equal 1')\n",
    "print('This is not part of the condition')\n",
    "\n",
    "# Test multiple conditions. Try changing the value of n.\n",
    "n = 0\n",
    "if n == 1:\n",
    "    print('n equals 1')\n",
    "elif n == 3:\n",
    "    print('n does not equal 3')\n",
    "elif n > 5:\n",
    "    print('n is greater than 5')\n",
    "else:\n",
    "    print('what is n?')\n",
    "\n",
    "# Blank strings resolve to False\n",
    "if '':\n",
    "    print('a blank string acts like True')\n",
    "else:\n",
    "    print('a blank string acts like false')\n",
    "\n",
    "# Empty lists also resolve to false, while lists with stuff in them do not\n",
    "if [1]:\n",
    "    print('a non-empty list acts like True')\n",
    "else:\n",
    "    print('a non-empty list acts like False')"
   ]
  },
  {
   "cell_type": "markdown",
   "id": "cd6d2d92",
   "metadata": {},
   "source": [
    "### 2.2 While statements"
   ]
  },
  {
   "cell_type": "code",
   "execution_count": 17,
   "id": "bab972af",
   "metadata": {},
   "outputs": [
    {
     "name": "stdout",
     "output_type": "stream",
     "text": [
      "0\n",
      "1\n",
      "2\n",
      "3\n",
      "4\n"
     ]
    }
   ],
   "source": [
    "# Print the numbers 0 through 4\n",
    "n = 0\n",
    "while n < 5:\n",
    "    print(n)\n",
    "    n += 1"
   ]
  },
  {
   "cell_type": "markdown",
   "id": "a0599166",
   "metadata": {},
   "source": [
    "### 2.3 For statements"
   ]
  },
  {
   "cell_type": "code",
   "execution_count": 18,
   "id": "4b20e6f1",
   "metadata": {},
   "outputs": [
    {
     "name": "stdout",
     "output_type": "stream",
     "text": [
      "Hello Chris!\n",
      "Hello Janet!\n",
      "Hello Tami!\n",
      "20\n",
      "2432902008176640000\n"
     ]
    }
   ],
   "source": [
    "# Print a message for each name in the list\n",
    "names = ['Chris', 'Janet', 'Tami']\n",
    "for name in names:\n",
    "    print('Hello {}!'.format(name))\n",
    "\n",
    "# Use range() to increment n 20 times\n",
    "n = 0\n",
    "for i in range(20):\n",
    "    n += 1\n",
    "print(n)\n",
    "\n",
    "# Use range() to compute the factorial of 20\n",
    "n = 1\n",
    "for i in range(1, 21):\n",
    "    n = n * i\n",
    "print(n)"
   ]
  },
  {
   "cell_type": "markdown",
   "id": "5d33c846",
   "metadata": {},
   "source": [
    "### 2.4 Break, continue, and else"
   ]
  },
  {
   "cell_type": "code",
   "execution_count": 20,
   "id": "be36cd80",
   "metadata": {},
   "outputs": [
    {
     "name": "stdout",
     "output_type": "stream",
     "text": [
      "0\n",
      "1\n",
      "2\n",
      "0\n",
      "1\n",
      "2\n",
      "4\n",
      "Found it!\n",
      "Could not find 2\n"
     ]
    }
   ],
   "source": [
    "# Break out of a loop if i == 3\n",
    "for i in range(5):\n",
    "    if i == 3:\n",
    "        break\n",
    "    print(i)\n",
    "\n",
    "# Go back to the beginning of the loop and skip the print function if i == 3\n",
    "for i in range(5):\n",
    "    if i == 3:\n",
    "        continue\n",
    "    print(i)\n",
    "\n",
    "# Use a break statement to get out of the loop if we find the number 2...\n",
    "for i in [0, 5, 7, 2, 3]:\n",
    "    if i == 2:\n",
    "        print('Found it!')\n",
    "        break\n",
    "else:\n",
    "    print('Could not find 2')\n",
    "\n",
    "# ...but use an else clause to say we couldn't find it if it's not there\n",
    "for i in [0, 5, 7, 3]:\n",
    "    if i == 2:\n",
    "        print('Found it!')\n",
    "        break\n",
    "else:\n",
    "    print('Could not find 2')\n"
   ]
  },
  {
   "cell_type": "markdown",
   "id": "33bf2e42",
   "metadata": {},
   "source": [
    "## 3. Functions "
   ]
  },
  {
   "cell_type": "code",
   "execution_count": 25,
   "id": "85470f2b",
   "metadata": {},
   "outputs": [
    {
     "name": "stdout",
     "output_type": "stream",
     "text": [
      "120\n",
      "5! = 120\n",
      "120\n"
     ]
    }
   ],
   "source": [
    "# Write a function to calculate factorials\n",
    "def factorial(n):\n",
    "    answer = 1\n",
    "    for i in range(1, n + 1):\n",
    "        answer = answer * i\n",
    "    return answer\n",
    "\n",
    "# Use the function like this:\n",
    "fact5 = factorial(5)\n",
    "print(fact5)\n",
    "\n",
    "\n",
    "# Change the function so it will optionally print the answer\n",
    "def factorial(n, print_it=False):\n",
    "    answer = 1\n",
    "    for i in range(1, n + 1):\n",
    "        answer = answer * i\n",
    "    if print_it:\n",
    "        print('{0}! = {1}'.format(n, answer))\n",
    "    return answer\n",
    "\n",
    "# Use the function without printing the answer\n",
    "fact5 = factorial(5)\n",
    "\n",
    "# Use the function and have it print the answer\n",
    "fact5 = factorial(5, True)\n",
    "\n",
    "# Use the function from a module\n",
    "import myfuncs\n",
    "fact5 = myfuncs.factorial(5)\n",
    "print(fact5)"
   ]
  },
  {
   "cell_type": "markdown",
   "id": "0200381a",
   "metadata": {},
   "source": [
    "## 4. Classes "
   ]
  },
  {
   "cell_type": "code",
   "execution_count": 24,
   "id": "0cbc6436",
   "metadata": {},
   "outputs": [
    {
     "name": "stdout",
     "output_type": "stream",
     "text": [
      "2022-03-10\n",
      "3\n",
      "2010-03-10\n",
      "2\n"
     ]
    }
   ],
   "source": [
    "# Import the datetime module and create a new object of the datetime class\n",
    "import datetime\n",
    "datetype = datetime.date\n",
    "mydate = datetype.today()\n",
    "print(mydate)\n",
    "\n",
    "# Use a function that belongs to the class to ask the datetime object what\n",
    "# day of the week it is\n",
    "print(mydate.weekday())\n",
    "\n",
    "# Use another function to return a new date similar to the first one but with\n",
    "# a different year\n",
    "newdate = mydate.replace(year=2010)\n",
    "print(newdate)\n",
    "print(newdate.weekday())"
   ]
  },
  {
   "cell_type": "code",
   "execution_count": null,
   "id": "c5b8bdb6",
   "metadata": {},
   "outputs": [],
   "source": []
  }
 ],
 "metadata": {
  "kernelspec": {
   "display_name": "Python 3 (ipykernel)",
   "language": "python",
   "name": "python3"
  },
  "language_info": {
   "codemirror_mode": {
    "name": "ipython",
    "version": 3
   },
   "file_extension": ".py",
   "mimetype": "text/x-python",
   "name": "python",
   "nbconvert_exporter": "python",
   "pygments_lexer": "ipython3",
   "version": "3.9.7"
  }
 },
 "nbformat": 4,
 "nbformat_minor": 5
}
