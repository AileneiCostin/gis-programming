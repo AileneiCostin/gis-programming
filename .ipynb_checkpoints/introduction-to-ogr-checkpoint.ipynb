{
 "cells": [
  {
   "cell_type": "markdown",
   "id": "5b276b20",
   "metadata": {},
   "source": [
    "Set this variable to your osgeopy-data directory so that the following\n",
    "examples will work without editing. \n",
    "* We'll use the os.path.join() function to combine this directory and the filenames to make a complete path. Of\n",
    "course, you can type the full path to the file for each example if you'd prefer."
   ]
  },
  {
   "cell_type": "code",
   "execution_count": 7,
   "id": "6c1730aa",
   "metadata": {},
   "outputs": [],
   "source": [
    "import os\n",
    "import sys\n",
    "data_dir = r'osgeopy-data'\n",
    "# data_dir ="
   ]
  },
  {
   "cell_type": "markdown",
   "id": "3b2c8e0f",
   "metadata": {},
   "source": [
    "## Introduction"
   ]
  },
  {
   "cell_type": "code",
   "execution_count": 2,
   "id": "492a8978",
   "metadata": {},
   "outputs": [
    {
     "name": "stdout",
     "output_type": "stream",
     "text": [
      "<osgeo.ogr.Driver; proxy of <Swig Object of type 'OGRDriverShadow *' at 0x00000224EB1AEEA0> >\n",
      "<osgeo.ogr.Driver; proxy of <Swig Object of type 'OGRDriverShadow *' at 0x00000224EB1AE420> >\n"
     ]
    }
   ],
   "source": [
    "# Import the module.\n",
    "from osgeo import ogr\n",
    "\n",
    "# Get the GeoJSON driver.\n",
    "driver = ogr.GetDriverByName('GeoJSON')\n",
    "print(driver)\n",
    "\n",
    "# It's not case sensitive, so this also works.\n",
    "driver = ogr.GetDriverByName('geojson')\n",
    "print(driver)"
   ]
  },
  {
   "cell_type": "code",
   "execution_count": 4,
   "id": "51d2b90e",
   "metadata": {},
   "outputs": [
    {
     "name": "stdout",
     "output_type": "stream",
     "text": [
      "<osgeo.ogr.Driver; proxy of <Swig Object of type 'OGRDriverShadow *' at 0x00000224EB1BB5A0> >\n"
     ]
    }
   ],
   "source": [
    "# This does not work because the real name is 'Esri shapefile'.\n",
    "driver = ogr.GetDriverByName('ESRI shapefile')\n",
    "print(driver)"
   ]
  },
  {
   "cell_type": "code",
   "execution_count": null,
   "id": "9156ec58",
   "metadata": {},
   "outputs": [],
   "source": [
    "# Print out a list of drivers.\n",
    "import osgeopy as ospy\n",
    "ospy.print_drivers()"
   ]
  },
  {
   "cell_type": "markdown",
   "id": "1f49f2a6",
   "metadata": {},
   "source": [
    "## Reading vector data "
   ]
  },
  {
   "cell_type": "markdown",
   "id": "377176ee",
   "metadata": {},
   "source": [
    "### Accessing specific features"
   ]
  },
  {
   "cell_type": "code",
   "execution_count": 28,
   "id": "4d263cd7",
   "metadata": {},
   "outputs": [
    {
     "name": "stdout",
     "output_type": "stream",
     "text": [
      "Hong Kong\n"
     ]
    }
   ],
   "source": [
    "# Open the data source for the examples.\n",
    "fn = os.path.join(data_dir, 'global', 'ne_50m_populated_places.shp')\n",
    "ds = ogr.Open(fn, 0)\n",
    "\n",
    "if ds is None:\n",
    "    sys.exit('Could not open {0}.'.format(fn))\n",
    "lyr = ds.GetLayer(0)\n",
    "\n",
    "# Get the total number of features and the last one.\n",
    "num_features = lyr.GetFeatureCount()\n",
    "last_feature = lyr.GetFeature(num_features - 1)\n",
    "print(last_feature.NAME)"
   ]
  },
  {
   "cell_type": "markdown",
   "id": "25efd3d7",
   "metadata": {},
   "source": [
    "#### Test what happens if you try to loop through a layer twice."
   ]
  },
  {
   "cell_type": "code",
   "execution_count": null,
   "id": "9d6c2a7c",
   "metadata": {},
   "outputs": [],
   "source": [
    "#The second loop should not print anything.\n",
    "fn = os.path.join(data_dir, 'washington', 'large_cities.geojson')\n",
    "#print(fn)\n",
    "ds = ogr.Open(fn, 0)\n",
    "lyr = ds.GetLayer(0)\n",
    "\n",
    "print('First loop')\n",
    "for feat in lyr:\n",
    "    print(feat.GetField('Name'), feat.GetField('Population'))\n",
    "\n",
    "print('Second loop')\n",
    "for feat in lyr:\n",
    "    pt = feat.geometry()\n",
    "    print(feat.GetField('Name'), pt.GetX(), pt.GetY())"
   ]
  },
  {
   "cell_type": "code",
   "execution_count": null,
   "id": "cd3d5c6a",
   "metadata": {},
   "outputs": [],
   "source": [
    "\n",
    "# # But it will if you reset reading first.\n",
    "ds = ogr.Open(fn, 0)\n",
    "lyr = ds.GetLayer(0)\n",
    "print('First loop')\n",
    "for feat in lyr:\n",
    "    print(feat.GetField('Name'), feat.GetField('Population'))\n",
    "print('Second loop')\n",
    "lyr.ResetReading() # This is the important line.\n",
    "for feat in lyr:\n",
    "    pt = feat.geometry()\n",
    "    print(feat.GetField('Name'), pt.GetX(), pt.GetY())"
   ]
  },
  {
   "cell_type": "code",
   "execution_count": null,
   "id": "bb4f01c3",
   "metadata": {},
   "outputs": [],
   "source": []
  },
  {
   "cell_type": "markdown",
   "id": "70d4cf7a",
   "metadata": {},
   "source": [
    "### Extract certain features from a shapefile and save them to another file."
   ]
  },
  {
   "cell_type": "code",
   "execution_count": null,
   "id": "df125e04",
   "metadata": {},
   "outputs": [],
   "source": [
    "import sys\n",
    "from osgeo import ogr\n",
    "\n",
    "# Open the folder data source for writing\n",
    "ds = ogr.Open(r'osgeopy-data/global', 1)\n",
    "if ds is None:\n",
    "    sys.exit('Could not open folder.')\n",
    "\n",
    "# Get the input shapefile\n",
    "in_lyr = ds.GetLayer('ne_50m_populated_places')\n",
    "\n",
    "# Create a point layer\n",
    "if ds.GetLayer('capital_cities'):\n",
    "    ds.DeleteLayer('capital_cities')\n",
    "out_lyr = ds.CreateLayer('capital_cities',\n",
    "                         in_lyr.GetSpatialRef(),\n",
    "                         ogr.wkbPoint)\n",
    "out_lyr.CreateFields(in_lyr.schema)\n",
    "\n",
    "# Create a blank feature\n",
    "out_defn = out_lyr.GetLayerDefn()\n",
    "out_feat = ogr.Feature(out_defn)\n",
    "\n",
    "for in_feat in in_lyr:\n",
    "    if in_feat.GetField('FEATURECLA') == 'Admin-0 capital':\n",
    "\n",
    "        # Copy geometry and attributes\n",
    "        geom = in_feat.geometry()\n",
    "        out_feat.SetGeometry(geom)\n",
    "        for i in range(in_feat.GetFieldCount()):\n",
    "            value = in_feat.GetField(i)\n",
    "            out_feat.SetField(i, value)\n",
    "\n",
    "        # Insert the feature\n",
    "        out_lyr.CreateFeature(out_feat)\n",
    "\n",
    "# Close files\n",
    "del ds"
   ]
  },
  {
   "cell_type": "markdown",
   "id": "26102e65",
   "metadata": {},
   "source": [
    "### Viewing your data "
   ]
  },
  {
   "cell_type": "code",
   "execution_count": null,
   "id": "71dfc2e7",
   "metadata": {},
   "outputs": [],
   "source": [
    "# Print name and population attributes.\n",
    "import osgeopy as ospy\n",
    "\n",
    "fn = os.path.join(data_dir, 'global', 'ne_50m_populated_places.shp')\n",
    "ospy.print_attributes(fn, 3, ['NAME', 'POP_MAX'])\n",
    "\n"
   ]
  },
  {
   "cell_type": "markdown",
   "id": "e4d85a37",
   "metadata": {},
   "source": [
    "## Getting metadata"
   ]
  },
  {
   "cell_type": "code",
   "execution_count": null,
   "id": "d98a3873",
   "metadata": {},
   "outputs": [],
   "source": [
    "# Open the large_cities data source.\n",
    "fn = os.path.join(data_dir, 'washington', 'large_cities.geojson')\n",
    "ds = ogr.Open(fn)\n",
    "if ds is None:\n",
    "    sys.exit('Could not open {0}.'.format(fn))\n",
    "\n",
    "# Get the spatial extent.\n",
    "lyr = ds.GetLayer(0)\n",
    "extent = lyr.GetExtent()\n",
    "print(extent)\n",
    "print('Upper left corner: {}, {}'.format(extent[0], extent[3]))\n",
    "print('Lower right corner: {}, {}'.format(extent[1], extent[2]))\n",
    "\n",
    "# Get geometry type\n",
    "print(lyr.GetGeomType())\n",
    "print(lyr.GetGeomType() == ogr.wkbPoint)\n",
    "print(lyr.GetGeomType() == ogr.wkbPolygon)\n",
    "\n",
    "# Get geometry type as human-readable string.\n",
    "feat = lyr.GetFeature(0)\n",
    "print(feat.geometry().GetGeometryName())\n",
    "\n",
    "# Get spatial reference system. The output is also in listing3_2.py.\n",
    "print(lyr.GetSpatialRef())\n",
    "\n",
    "# Get field names and types\n",
    "for field in lyr.schema:\n",
    "    print(field.name, field.GetTypeName())"
   ]
  },
  {
   "cell_type": "markdown",
   "id": "3740da12",
   "metadata": {},
   "source": [
    "## Using OGR exceptions"
   ]
  },
  {
   "cell_type": "code",
   "execution_count": null,
   "id": "28d50509",
   "metadata": {},
   "outputs": [],
   "source": [
    "# Try running this when output/africa.geojson already exists in order to raise\n",
    "# the error.\n",
    "\n",
    "# Turn on OGR exceptions. Try commenting this out to see how the behavior\n",
    "# changes.\n",
    "ogr.UseExceptions()\n",
    "\n",
    "fn = os.path.join(data_dir, 'output', 'africa.geojson')\n",
    "driver = ogr.GetDriverByName('GeoJSON')\n",
    "print('Doing some preliminary analysis...')\n",
    "\n",
    "try:\n",
    "    # This will fail if the file already exists\n",
    "    ds = driver.CreateDataSource(fn)\n",
    "    lyr = ds.CreateLayer('layer')\n",
    "    # Do more stuff, like fields and save data\n",
    "except RuntimeError as e:\n",
    "    # This runs if the data source already exists and an error was raised\n",
    "    print(e)\n",
    "\n",
    "print('Doing some more analysis...')"
   ]
  },
  {
   "cell_type": "code",
   "execution_count": null,
   "id": "27048bfd",
   "metadata": {},
   "outputs": [],
   "source": []
  }
 ],
 "metadata": {
  "kernelspec": {
   "display_name": "Python 3 (ipykernel)",
   "language": "python",
   "name": "python3"
  },
  "language_info": {
   "codemirror_mode": {
    "name": "ipython",
    "version": 3
   },
   "file_extension": ".py",
   "mimetype": "text/x-python",
   "name": "python",
   "nbconvert_exporter": "python",
   "pygments_lexer": "ipython3",
   "version": "3.9.7"
  }
 },
 "nbformat": 4,
 "nbformat_minor": 5
}
