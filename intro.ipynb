{
 "cells": [
  {
   "cell_type": "code",
   "execution_count": 4,
   "id": "genuine-hearts",
   "metadata": {},
   "outputs": [],
   "source": [
    "from osgeo import ogr\n",
    "import os"
   ]
  },
  {
   "cell_type": "code",
   "execution_count": 5,
   "id": "stone-mayor",
   "metadata": {},
   "outputs": [
    {
     "data": {
      "text/plain": [
       "<osgeo.ogr.Driver; proxy of <Swig Object of type 'OGRDriverShadow *' at 0x000001DA4AFE9C30> >"
      ]
     },
     "execution_count": 5,
     "metadata": {},
     "output_type": "execute_result"
    }
   ],
   "source": [
    "drv = ogr.GetDriverByName('ESRI Shapefile')\n",
    "drv"
   ]
  },
  {
   "cell_type": "code",
   "execution_count": 15,
   "id": "surprising-donor",
   "metadata": {},
   "outputs": [
    {
     "name": "stdout",
     "output_type": "stream",
     "text": [
      " Volume in drive C is OS\n",
      " Volume Serial Number is D6D7-C34A\n",
      "\n",
      " Directory of C:\\Personale\\Atm\\Limbaje de programare\\gis-programming\n",
      "\n",
      "02/14/2022  05:22 PM    <DIR>          .\n",
      "02/14/2022  05:22 PM    <DIR>          ..\n",
      "02/14/2022  05:10 PM    <DIR>          .ipynb_checkpoints\n",
      "02/14/2022  05:22 PM             2,576 intro.ipynb\n",
      "02/14/2022  05:20 PM    <DIR>          osgeopy-data\n",
      "               1 File(s)          2,576 bytes\n",
      "               4 Dir(s)  53,162,655,744 bytes free\n"
     ]
    }
   ],
   "source": [
    "ls"
   ]
  },
  {
   "cell_type": "code",
   "execution_count": 16,
   "id": "awful-gather",
   "metadata": {},
   "outputs": [],
   "source": [
    "data_dir = r'C:/Personale/Atm/Limbaje de programare/gis-programming/osgeopy-data/global'\n",
    "fn = os.path.join(data_dir,'ne_50m_populated_places.shp')"
   ]
  },
  {
   "cell_type": "code",
   "execution_count": 18,
   "id": "careful-blogger",
   "metadata": {
    "scrolled": false
   },
   "outputs": [
    {
     "data": {
      "text/plain": [
       "<osgeo.ogr.DataSource; proxy of <Swig Object of type 'OGRDataSourceShadow *' at 0x000001DA4AD68CC0> >"
      ]
     },
     "execution_count": 18,
     "metadata": {},
     "output_type": "execute_result"
    }
   ],
   "source": [
    "ds = ogr.Open(fn,0)\n",
    "ds"
   ]
  }
 ],
 "metadata": {
  "kernelspec": {
   "display_name": "Python 3 (ipykernel)",
   "language": "python",
   "name": "python3"
  },
  "language_info": {
   "codemirror_mode": {
    "name": "ipython",
    "version": 3
   },
   "file_extension": ".py",
   "mimetype": "text/x-python",
   "name": "python",
   "nbconvert_exporter": "python",
   "pygments_lexer": "ipython3",
   "version": "3.9.5"
  }
 },
 "nbformat": 4,
 "nbformat_minor": 5
}
