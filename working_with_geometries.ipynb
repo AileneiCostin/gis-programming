{
 "cells": [
  {
   "cell_type": "code",
   "execution_count": 96,
   "id": "5721ba84",
   "metadata": {},
   "outputs": [],
   "source": [
    "import os\n",
    "from osgeo import ogr"
   ]
  },
  {
   "cell_type": "markdown",
   "id": "07860df0",
   "metadata": {},
   "source": [
    "## Working with points"
   ]
  },
  {
   "cell_type": "markdown",
   "id": "91e0b159",
   "metadata": {},
   "source": [
    "### Single points"
   ]
  },
  {
   "cell_type": "code",
   "execution_count": 97,
   "id": "42607d2f",
   "metadata": {},
   "outputs": [],
   "source": [
    "# Create the firepit point.\n",
    "point = ogr.Geometry(ogr.wkbPoint)\n",
    "point.AddPoint(59.5, 11.5)"
   ]
  },
  {
   "cell_type": "code",
   "execution_count": 98,
   "id": "82008baf",
   "metadata": {},
   "outputs": [
    {
     "name": "stdout",
     "output_type": "stream",
     "text": [
      "59.5, 11.5\n"
     ]
    }
   ],
   "source": [
    "# Try out GetX and GetY.\n",
    "x, y = point.GetX(), point.GetY()\n",
    "print('{}, {}'.format(x, y))"
   ]
  },
  {
   "cell_type": "code",
   "execution_count": 99,
   "id": "5cdb202e",
   "metadata": {},
   "outputs": [
    {
     "data": {
      "text/plain": [
       "[<matplotlib.lines.Line2D at 0x1996c382fd0>]"
      ]
     },
     "execution_count": 99,
     "metadata": {},
     "output_type": "execute_result"
    },
    {
     "data": {
      "image/png": "[encoded data removed]",
      "text/plain": [
       "<Figure size 432x288 with 1 Axes>"
      ]
     },
     "metadata": {
      "needs_background": "light"
     },
     "output_type": "display_data"
    }
   ],
   "source": [
    "import matplotlib.pyplot as plt\n",
    "plt.plot(x, y, 'bo')"
   ]
  },
  {
   "cell_type": "code",
   "execution_count": 100,
   "id": "8ac5ca37",
   "metadata": {},
   "outputs": [
    {
     "name": "stdout",
     "output_type": "stream",
     "text": [
      "POINT (59.5 13.0 0)\n"
     ]
    }
   ],
   "source": [
    "# Edit the point coordinates.\n",
    "point.AddPoint(59.5, 13)\n",
    "print(point)"
   ]
  },
  {
   "cell_type": "code",
   "execution_count": 101,
   "id": "367a710e",
   "metadata": {},
   "outputs": [
    {
     "name": "stdout",
     "output_type": "stream",
     "text": [
      "POINT (59.5 13.0 0)\n"
     ]
    }
   ],
   "source": [
    "# Or edit the point using SetPoint instead of AddPoint.\n",
    "point.SetPoint(0, 59.5, 13)\n",
    "print(point)"
   ]
  },
  {
   "cell_type": "code",
   "execution_count": 102,
   "id": "c0c3dcb0",
   "metadata": {},
   "outputs": [
    {
     "name": "stdout",
     "output_type": "stream",
     "text": [
      "POINT (59.5 11.5 2)\n"
     ]
    }
   ],
   "source": [
    "# Make a 2.5D point.\n",
    "point = ogr.Geometry(ogr.wkbPoint25D)\n",
    "point.AddPoint(59.5, 11.5, 2)\n",
    "print(point)"
   ]
  },
  {
   "cell_type": "markdown",
   "id": "9dd77854",
   "metadata": {},
   "source": [
    "### Multiple points"
   ]
  },
  {
   "cell_type": "code",
   "execution_count": 103,
   "id": "2ec16bb6",
   "metadata": {},
   "outputs": [
    {
     "data": {
      "text/plain": [
       "0"
      ]
     },
     "execution_count": 103,
     "metadata": {},
     "output_type": "execute_result"
    }
   ],
   "source": [
    "# Create the multipoint \n",
    "points = ogr.Geometry(ogr.wkbMultiPoint)\n",
    "\n",
    "point = ogr.Geometry(ogr.wkbPoint)\n",
    "point.AddPoint(67.5, 16)\n",
    "points.AddGeometry(faucet)\n",
    "\n",
    "point.AddPoint(73, 31)\n",
    "points.AddGeometry(faucet)\n",
    "\n",
    "point.AddPoint(91, 24.5)\n",
    "points.AddGeometry(faucet)"
   ]
  },
  {
   "cell_type": "code",
   "execution_count": 104,
   "id": "33d440d2",
   "metadata": {},
   "outputs": [
    {
     "name": "stdout",
     "output_type": "stream",
     "text": [
      "MULTIPOINT (91.0 24.5 0,91.0 24.5 0,91.0 24.5 0)\n"
     ]
    }
   ],
   "source": [
    "print(points)"
   ]
  },
  {
   "cell_type": "code",
   "execution_count": 105,
   "id": "1b470bc3",
   "metadata": {},
   "outputs": [
    {
     "data": {
      "text/plain": [
       "[<matplotlib.lines.Line2D at 0x1996c31aeb0>]"
      ]
     },
     "execution_count": 105,
     "metadata": {},
     "output_type": "execute_result"
    },
    {
     "data": {
      "image/png": "[encoded data removed]",
      "text/plain": [
       "<Figure size 432x288 with 1 Axes>"
      ]
     },
     "metadata": {
      "needs_background": "light"
     },
     "output_type": "display_data"
    }
   ],
   "source": [
    "import matplotlib.pyplot as plt\n",
    "plt.plot(x, y, 'bo')"
   ]
  },
  {
   "cell_type": "code",
   "execution_count": 106,
   "id": "bcd0285e",
   "metadata": {},
   "outputs": [
    {
     "name": "stdout",
     "output_type": "stream",
     "text": [
      "MULTIPOINT (91.0 24.5 0,75 32 0,91.0 24.5 0)\n"
     ]
    }
   ],
   "source": [
    "# Edit the coordinates for the second faucet.\n",
    "points.GetGeometryRef(1).AddPoint(75, 32)\n",
    "print(points)"
   ]
  },
  {
   "cell_type": "code",
   "execution_count": 107,
   "id": "3ce283c5",
   "metadata": {},
   "outputs": [],
   "source": [
    "# Move all points two units to the east\n",
    "for i in range(points.GetGeometryCount()):\n",
    "    pt = points.GetGeometryRef(i)\n",
    "    pt.AddPoint(pt.GetX() + 2, pt.GetY())"
   ]
  },
  {
   "cell_type": "code",
   "execution_count": 108,
   "id": "71dcfbcb",
   "metadata": {},
   "outputs": [
    {
     "name": "stdout",
     "output_type": "stream",
     "text": [
      "MULTIPOINT (93.0 24.5 0,77 32 0,93.0 24.5 0)\n"
     ]
    }
   ],
   "source": [
    "print(points)"
   ]
  },
  {
   "cell_type": "markdown",
   "id": "1c696f29",
   "metadata": {},
   "source": [
    "## Working with lines"
   ]
  },
  {
   "cell_type": "markdown",
   "id": "6a3fc30c",
   "metadata": {},
   "source": [
    "### Single lines"
   ]
  },
  {
   "cell_type": "code",
   "execution_count": 109,
   "id": "5937301a",
   "metadata": {},
   "outputs": [
    {
     "name": "stdout",
     "output_type": "stream",
     "text": [
      "LINESTRING (54 37 0,62.0 35.5 0,70.5 38.0 0,74.5 41.5 0)\n"
     ]
    }
   ],
   "source": [
    "# Create a line. Make sure to add the vertices in order.\n",
    "line = ogr.Geometry(ogr.wkbLineString)\n",
    "line.AddPoint(54, 37)\n",
    "line.AddPoint(62, 35.5)\n",
    "line.AddPoint(70.5, 38)\n",
    "line.AddPoint(74.5, 41.5)\n",
    "print(line)"
   ]
  },
  {
   "cell_type": "code",
   "execution_count": 126,
   "id": "7f6e8334",
   "metadata": {},
   "outputs": [],
   "source": [
    "def _get_line_coords(geom):\n",
    "        \"\"\"Get line coordinates as a list of (x, y) tuples.\"\"\"\n",
    "        return [coords[:2] for coords in geom.GetPoints()]"
   ]
  },
  {
   "cell_type": "code",
   "execution_count": null,
   "id": "65be6237",
   "metadata": {},
   "outputs": [],
   "source": []
  },
  {
   "cell_type": "code",
   "execution_count": 128,
   "id": "931be38a",
   "metadata": {},
   "outputs": [
    {
     "data": {
      "text/plain": [
       "[<matplotlib.lines.Line2D at 0x1996c06fb20>]"
      ]
     },
     "execution_count": 128,
     "metadata": {},
     "output_type": "execute_result"
    },
    {
     "data": {
      "image/png": "[encoded data removed]",
      "text/plain": [
       "<Figure size 432x288 with 1 Axes>"
      ]
     },
     "metadata": {
      "needs_background": "light"
     },
     "output_type": "display_data"
    }
   ],
   "source": [
    "data = _get_line_coords(line)\n",
    "x, y = zip(*data)\n",
    "plt.plot(x, y, 'b-')"
   ]
  },
  {
   "cell_type": "code",
   "execution_count": 111,
   "id": "a9732e53",
   "metadata": {},
   "outputs": [
    {
     "name": "stdout",
     "output_type": "stream",
     "text": [
      "LINESTRING (54 37 0,62.0 35.5 0,70.5 38.0 0,76.0 41.5 0)\n"
     ]
    }
   ],
   "source": [
    "# Change the last vertex.\n",
    "line.SetPoint(3, 76, 41.5)\n",
    "print(line)"
   ]
  },
  {
   "cell_type": "code",
   "execution_count": 112,
   "id": "87389a17",
   "metadata": {},
   "outputs": [
    {
     "name": "stdout",
     "output_type": "stream",
     "text": [
      "LINESTRING (54 38 0,62.0 36.5 0,70.5 39.0 0,76.0 42.5 0)\n"
     ]
    }
   ],
   "source": [
    "# Move the line one unit to the north.\n",
    "for i in range(line.GetPointCount()):\n",
    "    line.SetPoint(i, line.GetX(i), line.GetY(i) + 1)\n",
    "print(line)"
   ]
  },
  {
   "cell_type": "code",
   "execution_count": 113,
   "id": "37dd06eb",
   "metadata": {},
   "outputs": [
    {
     "name": "stdout",
     "output_type": "stream",
     "text": [
      "4\n",
      "0\n"
     ]
    }
   ],
   "source": [
    "# Try out GetGeometryCount to prove it that it returns zero for a single\n",
    "# geometry.\n",
    "print(line.GetPointCount()) # vertices\n",
    "print(line.GetGeometryCount()) # sub-geometries"
   ]
  },
  {
   "cell_type": "code",
   "execution_count": 114,
   "id": "2cce3ea7",
   "metadata": {},
   "outputs": [
    {
     "name": "stdout",
     "output_type": "stream",
     "text": [
      "[(54.0, 38.0, 0.0), (62.0, 36.5, 0.0), (70.5, 39.0, 0.0), (76.0, 42.5, 0.0)]\n",
      "[(54.0, 38.0, 0.0), (62.0, 36.5, 0.0), (66.5, 35), (70.5, 39.0, 0.0), (76.0, 42.5, 0.0)]\n"
     ]
    }
   ],
   "source": [
    "# Look at the list of tuples containing vertex coordinates.\n",
    "print(line.GetPoints())\n",
    "\n",
    "# Insert a new vertex between the 2nd and 3rd vertices.\n",
    "vertices = line.GetPoints()\n",
    "vertices[2:2] = [(66.5, 35)]\n",
    "print(vertices)\n"
   ]
  },
  {
   "cell_type": "code",
   "execution_count": 115,
   "id": "acd10cab",
   "metadata": {},
   "outputs": [
    {
     "name": "stdout",
     "output_type": "stream",
     "text": [
      "LINESTRING (54 38 0,62.0 36.5 0,66.5 35.0 0,70.5 39.0 0,76.0 42.5 0)\n"
     ]
    }
   ],
   "source": [
    "# Create a new line geometry from the list of vertices.\n",
    "new_line = ogr.Geometry(ogr.wkbLineString)\n",
    "for vertex in vertices:\n",
    "    new_line.AddPoint(*vertex)\n",
    "\n",
    "print(new_line)"
   ]
  },
  {
   "cell_type": "markdown",
   "id": "55c5b394",
   "metadata": {},
   "source": [
    "### The Python *  -operator"
   ]
  },
  {
   "cell_type": "code",
   "execution_count": 116,
   "id": "69c487d4",
   "metadata": {},
   "outputs": [
    {
     "ename": "TypeError",
     "evalue": "Geometry_AddPoint() missing required argument 'y' (pos 3)",
     "output_type": "error",
     "traceback": [
      "\u001b[1;31m---------------------------------------------------------------------------\u001b[0m",
      "\u001b[1;31mTypeError\u001b[0m                                 Traceback (most recent call last)",
      "Input \u001b[1;32mIn [116]\u001b[0m, in \u001b[0;36m<cell line: 9>\u001b[1;34m()\u001b[0m\n\u001b[0;32m      5\u001b[0m pt\u001b[38;5;241m.\u001b[39mAddPoint(\u001b[38;5;241m*\u001b[39mvertex)\n\u001b[0;32m      7\u001b[0m \u001b[38;5;66;03m# Resolves to pt.AddPoint((10, 20)), which fails because only one thing\u001b[39;00m\n\u001b[0;32m      8\u001b[0m \u001b[38;5;66;03m# (a tuple) is getting passed to AddPoint.\u001b[39;00m\n\u001b[1;32m----> 9\u001b[0m \u001b[43mpt\u001b[49m\u001b[38;5;241;43m.\u001b[39;49m\u001b[43mAddPoint\u001b[49m\u001b[43m(\u001b[49m\u001b[43mvertex\u001b[49m\u001b[43m)\u001b[49m\n",
      "File \u001b[1;32m~\\Miniconda3\\lib\\site-packages\\osgeo\\ogr.py:6113\u001b[0m, in \u001b[0;36mGeometry.AddPoint\u001b[1;34m(self, *args, **kwargs)\u001b[0m\n\u001b[0;32m   6111\u001b[0m \u001b[38;5;28;01mdef\u001b[39;00m \u001b[38;5;21mAddPoint\u001b[39m(\u001b[38;5;28mself\u001b[39m, \u001b[38;5;241m*\u001b[39margs, \u001b[38;5;241m*\u001b[39m\u001b[38;5;241m*\u001b[39mkwargs):\n\u001b[0;32m   6112\u001b[0m     \u001b[38;5;124;03m\"\"\"AddPoint(Geometry self, double x, double y, double z=0)\"\"\"\u001b[39;00m\n\u001b[1;32m-> 6113\u001b[0m     \u001b[38;5;28;01mreturn\u001b[39;00m _ogr\u001b[38;5;241m.\u001b[39mGeometry_AddPoint(\u001b[38;5;28mself\u001b[39m, \u001b[38;5;241m*\u001b[39margs, \u001b[38;5;241m*\u001b[39m\u001b[38;5;241m*\u001b[39mkwargs)\n",
      "\u001b[1;31mTypeError\u001b[0m: Geometry_AddPoint() missing required argument 'y' (pos 3)"
     ]
    }
   ],
   "source": [
    "pt = ogr.Geometry(ogr.wkbPoint)\n",
    "vertex = (10, 20)\n",
    "\n",
    "# Resolves to pt.AddPoint(10, 20), which works\n",
    "pt.AddPoint(*vertex)\n",
    "\n",
    "# Resolves to pt.AddPoint((10, 20)), which fails because only one thing\n",
    "# (a tuple) is getting passed to AddPoint.\n",
    "pt.AddPoint(vertex)"
   ]
  },
  {
   "cell_type": "markdown",
   "id": "7e0005d0",
   "metadata": {},
   "source": [
    "### Multiple lines "
   ]
  },
  {
   "cell_type": "code",
   "execution_count": null,
   "id": "47c3e3a0",
   "metadata": {},
   "outputs": [],
   "source": [
    "# Create the pathways multiline. Create three individual lines, one for each\n",
    "# path. Then add them all to the multiline geometry.\n",
    "path1 = ogr.Geometry(ogr.wkbLineString)\n",
    "path1.AddPoint(61.5, 29)\n",
    "path1.AddPoint(63, 20)\n",
    "path1.AddPoint(62.5, 16)\n",
    "path1.AddPoint(60, 13)\n",
    "\n",
    "path2 = ogr.Geometry(ogr.wkbLineString)\n",
    "path2.AddPoint(60.5, 12)\n",
    "path2.AddPoint(68.5, 13.5)\n",
    "\n",
    "path3 = ogr.Geometry(ogr.wkbLineString)\n",
    "path3.AddPoint(69.5, 33)\n",
    "path3.AddPoint(80, 33)\n",
    "path3.AddPoint(86.5, 22.5)\n",
    "\n",
    "paths = ogr.Geometry(ogr.wkbMultiLineString)\n",
    "paths.AddGeometry(path1)\n",
    "paths.AddGeometry(path2)\n",
    "paths.AddGeometry(path3)\n",
    "\n",
    "# Take a look at the multiline.\n",
    "print(paths)"
   ]
  },
  {
   "cell_type": "code",
   "execution_count": null,
   "id": "ecb6d58e",
   "metadata": {},
   "outputs": [],
   "source": [
    "# Edit the second vertex in the first path.\n",
    "paths.GetGeometryRef(0).SetPoint(1, 63, 22)\n",
    "print(paths)"
   ]
  },
  {
   "cell_type": "code",
   "execution_count": null,
   "id": "6bcf2c51",
   "metadata": {},
   "outputs": [],
   "source": [
    "# Move the line two units east and three south. Get each individual path from\n",
    "# the multipath with GetGeometryRef, and then edit the vertices for the path.\n",
    "for i in range(paths.GetGeometryCount()):\n",
    "    path = paths.GetGeometryRef(i)\n",
    "    for j in range(path.GetPointCount()):\n",
    "        path.SetPoint(j, path.GetX(j) + 2, path.GetY(j) - 3)\n",
    "print(paths)"
   ]
  },
  {
   "cell_type": "markdown",
   "id": "a7fe326d",
   "metadata": {},
   "source": [
    "## Working with polygons"
   ]
  },
  {
   "cell_type": "markdown",
   "id": "65334c28",
   "metadata": {},
   "source": [
    "### Single polygons"
   ]
  },
  {
   "cell_type": "code",
   "execution_count": null,
   "id": "5e1936dc",
   "metadata": {},
   "outputs": [],
   "source": [
    "# Make the yard boundary polygon. Create a ring and add the vertices in order,\n",
    "# and then add the ring to the polygon.\n",
    "ring = ogr.Geometry(ogr.wkbLinearRing)\n",
    "ring.AddPoint(58, 38.5)\n",
    "ring.AddPoint(53, 6)\n",
    "ring.AddPoint(99.5, 19)\n",
    "ring.AddPoint(73, 42)\n",
    "yard = ogr.Geometry(ogr.wkbPolygon)\n",
    "yard.AddGeometry(ring)\n",
    "yard.CloseRings()"
   ]
  },
  {
   "cell_type": "code",
   "execution_count": null,
   "id": "8495d8ca",
   "metadata": {},
   "outputs": [],
   "source": [
    "# Take a look at the polygon\n",
    "print(yard)"
   ]
  },
  {
   "cell_type": "code",
   "execution_count": 129,
   "id": "6ebd18bf",
   "metadata": {},
   "outputs": [],
   "source": [
    "def _get_polygon_coords(geom):\n",
    "        \"\"\"Get polygon coordinates as a list of lists of (x, y) tuples.\"\"\"\n",
    "        coords = []\n",
    "        for i in range(geom.GetGeometryCount()):\n",
    "            coords.append(_get_line_coords(geom.GetGeometryRef(i)))\n",
    "        return coords"
   ]
  },
  {
   "cell_type": "code",
   "execution_count": 133,
   "id": "d176caa1",
   "metadata": {},
   "outputs": [
    {
     "data": {
      "text/plain": [
       "[<matplotlib.lines.Line2D at 0x1996c200c40>]"
      ]
     },
     "execution_count": 133,
     "metadata": {},
     "output_type": "execute_result"
    },
    {
     "data": {
      "image/png": "[encoded data removed]",
      "text/plain": [
       "<Figure size 432x288 with 1 Axes>"
      ]
     },
     "metadata": {
      "needs_background": "light"
     },
     "output_type": "display_data"
    }
   ],
   "source": [
    "coords = _get_polygon_coords(yard)\n",
    "outer = coords[0]\n",
    "x, y = zip(*outer)\n",
    "plt.plot(x, y, 'r-')"
   ]
  },
  {
   "cell_type": "code",
   "execution_count": null,
   "id": "93ad217c",
   "metadata": {},
   "outputs": [],
   "source": [
    "# Move the polygon five units west, by moving the ring.\n",
    "ring = yard.GetGeometryRef(0)\n",
    "for i in range(ring.GetPointCount()):\n",
    "    ring.SetPoint(i, ring.GetX(i) - 5, ring.GetY(i))"
   ]
  },
  {
   "cell_type": "code",
   "execution_count": null,
   "id": "63d301a6",
   "metadata": {},
   "outputs": [],
   "source": [
    "print(yard)"
   ]
  },
  {
   "cell_type": "code",
   "execution_count": null,
   "id": "fd6afe8b",
   "metadata": {},
   "outputs": [],
   "source": [
    "# Cut off one of the sharp corners by replacing the third vertex with two other\n",
    "# vertices.\n",
    "ring = yard.GetGeometryRef(0)\n",
    "vertices = ring.GetPoints()\n",
    "vertices[2:3] = ((90, 16), (90, 27))\n",
    "for i in range(len(vertices)):\n",
    "    ring.SetPoint(i, *vertices[i])"
   ]
  },
  {
   "cell_type": "code",
   "execution_count": null,
   "id": "2db982e6",
   "metadata": {},
   "outputs": [],
   "source": [
    "print(yard)"
   ]
  },
  {
   "cell_type": "markdown",
   "id": "2942c185",
   "metadata": {},
   "source": [
    "### Multiple polygons"
   ]
  },
  {
   "cell_type": "code",
   "execution_count": 118,
   "id": "f9ea4c1b",
   "metadata": {},
   "outputs": [],
   "source": [
    "# Make the garden boxes multipolygon. Create a regular polygon for each raised\n",
    "# bed, and then add it to the multipolygon. This is the code in listing 6.3.\n",
    "box1 = ogr.Geometry(ogr.wkbLinearRing)\n",
    "box1.AddPoint(87.5, 25.5)\n",
    "box1.AddPoint(89, 25.5)\n",
    "box1.AddPoint(89, 24)\n",
    "box1.AddPoint(87.5, 24)\n",
    "garden1 = ogr.Geometry(ogr.wkbPolygon)\n",
    "garden1.AddGeometry(box1)\n",
    "\n",
    "box2 = ogr.Geometry(ogr.wkbLinearRing)\n",
    "box2.AddPoint(89, 23)\n",
    "box2.AddPoint(92, 23)\n",
    "box2.AddPoint(92,22)\n",
    "box2.AddPoint(89,22)\n",
    "garden2 = ogr.Geometry(ogr.wkbPolygon)\n",
    "garden2.AddGeometry(box2)\n",
    "\n",
    "gardens = ogr.Geometry(ogr.wkbMultiPolygon)\n",
    "gardens.AddGeometry(garden1)\n",
    "gardens.AddGeometry(garden2)\n",
    "gardens.CloseRings()"
   ]
  },
  {
   "cell_type": "code",
   "execution_count": 119,
   "id": "738a7366",
   "metadata": {},
   "outputs": [
    {
     "name": "stdout",
     "output_type": "stream",
     "text": [
      "MULTIPOLYGON (((87.5 25.5 0,89.0 25.5 0,89 24 0,87.5 24.0 0,87.5 25.5 0)),((89 23 0,92 23 0,92 22 0,89 22 0,89 23 0)))\n"
     ]
    }
   ],
   "source": [
    "print(gardens)"
   ]
  },
  {
   "cell_type": "code",
   "execution_count": 131,
   "id": "d3a7ff82",
   "metadata": {},
   "outputs": [],
   "source": [
    "def _get_multipolygon_coords( geom):\n",
    "        \"\"\"Get multipolygon coordinates as a list of lists rings.\"\"\"\n",
    "        coords = []\n",
    "        for i in range(geom.GetGeometryCount()):\n",
    "            coords.append(_get_polygon_coords(geom.GetGeometryRef(i)))\n",
    "        return coords"
   ]
  },
  {
   "cell_type": "code",
   "execution_count": 135,
   "id": "86778d7b",
   "metadata": {},
   "outputs": [
    {
     "data": {
      "image/png": "[encoded data removed]",
      "text/plain": [
       "<Figure size 432x288 with 1 Axes>"
      ]
     },
     "metadata": {
      "needs_background": "light"
     },
     "output_type": "display_data"
    }
   ],
   "source": [
    "data = _get_multipolygon_coords(gardens)\n",
    "\n",
    "for poly in data:\n",
    "    outer = poly[0]\n",
    "    x, y = zip(*outer)\n",
    "    plt.plot(x, y, 'r-')"
   ]
  },
  {
   "cell_type": "code",
   "execution_count": 95,
   "id": "9907503a",
   "metadata": {},
   "outputs": [
    {
     "name": "stdout",
     "output_type": "stream",
     "text": [
      "MULTIPOLYGON (((89.5 26.5 0,91.0 26.5 0,91 25 0,89.5 25.0 0,89.5 26.5 0)),((91 24 0,94 24 0,94 23 0,91 23 0,91 24 0)))\n"
     ]
    }
   ],
   "source": [
    "# Move the garden boxes on unit east and half a unit north. For each polygon\n",
    "# contained in the multipolygon, get the ring and edit its vertices.\n",
    "for i in range(gardens.GetGeometryCount()):\n",
    "    ring = gardens.GetGeometryRef(i).GetGeometryRef(0)\n",
    "    for j in range(ring.GetPointCount()):\n",
    "        ring.SetPoint(j, ring.GetX(j) + 1, ring.GetY(j) + 0.5)\n",
    "\n",
    "print(gardens)"
   ]
  },
  {
   "cell_type": "markdown",
   "id": "42fe6b95",
   "metadata": {},
   "source": [
    "### Polygons with holes"
   ]
  },
  {
   "cell_type": "code",
   "execution_count": 44,
   "id": "ef0f561c",
   "metadata": {},
   "outputs": [],
   "source": [
    "# Make the yard multipolygon, but this time cut out a hole for the house.\n",
    "# Make the outer boundary ring first (it's the same as earlier). Then make the\n",
    "# ring for the house (hole). Then create a polygon and add the rings, making\n",
    "# sure to add the outer boundary first. Close all of the rings at once by\n",
    "# calling CloseRings *after* adding all of the rings.\n",
    "lot = ogr.Geometry(ogr.wkbLinearRing)\n",
    "lot.AddPoint(58, 38.5)\n",
    "lot.AddPoint(53, 6)\n",
    "lot.AddPoint(99.5, 19)\n",
    "lot.AddPoint(73, 42)\n",
    "\n",
    "house = ogr.Geometry(ogr.wkbLinearRing)\n",
    "house.AddPoint(67.5, 29)\n",
    "house.AddPoint(69, 25.5)\n",
    "house.AddPoint(64, 23)\n",
    "house.AddPoint(69, 15)\n",
    "house.AddPoint(82.5, 22)\n",
    "house.AddPoint(76, 31.5)\n",
    "\n",
    "yard = ogr.Geometry(ogr.wkbPolygon)\n",
    "yard.AddGeometry(lot)\n",
    "yard.AddGeometry(house)\n",
    "yard.CloseRings()"
   ]
  },
  {
   "cell_type": "code",
   "execution_count": 45,
   "id": "032ba5e8",
   "metadata": {},
   "outputs": [
    {
     "name": "stdout",
     "output_type": "stream",
     "text": [
      "MULTIPOLYGON (((89.5 26.5 0,91.0 26.5 0,91 25 0,89.5 25.0 0,89.5 26.5 0)),((91 24 0,94 24 0,94 23 0,91 23 0,91 24 0)))\n"
     ]
    }
   ],
   "source": [
    "print(gardens)"
   ]
  },
  {
   "cell_type": "code",
   "execution_count": 46,
   "id": "e6ab038e",
   "metadata": {},
   "outputs": [],
   "source": [
    "# Move the yard five units south. Get each ring the same way you would get an\n",
    "# inner polygon from a multipolygon.\n",
    "for i in range(yard.GetGeometryCount()):\n",
    "    ring = yard.GetGeometryRef(i)\n",
    "    for j in range(ring.GetPointCount()):\n",
    "        ring.SetPoint(j, ring.GetX(j) - 5, ring.GetY(j))"
   ]
  },
  {
   "cell_type": "code",
   "execution_count": 47,
   "id": "182b09f6",
   "metadata": {},
   "outputs": [
    {
     "name": "stdout",
     "output_type": "stream",
     "text": [
      "MULTIPOLYGON (((89.5 26.5 0,91.0 26.5 0,91 25 0,89.5 25.0 0,89.5 26.5 0)),((91 24 0,94 24 0,94 23 0,91 23 0,91 24 0)))\n"
     ]
    }
   ],
   "source": [
    "print(gardens)"
   ]
  },
  {
   "cell_type": "code",
   "execution_count": null,
   "id": "e15f0d39",
   "metadata": {},
   "outputs": [],
   "source": []
  }
 ],
 "metadata": {
  "kernelspec": {
   "display_name": "Python 3 (ipykernel)",
   "language": "python",
   "name": "python3"
  },
  "language_info": {
   "codemirror_mode": {
    "name": "ipython",
    "version": 3
   },
   "file_extension": ".py",
   "mimetype": "text/x-python",
   "name": "python",
   "nbconvert_exporter": "python",
   "pygments_lexer": "ipython3",
   "version": "3.9.7"
  }
 },
 "nbformat": 4,
 "nbformat_minor": 5
}
