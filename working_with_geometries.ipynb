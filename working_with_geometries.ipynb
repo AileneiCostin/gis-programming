{
 "cells": [
  {
   "cell_type": "code",
   "execution_count": 1,
   "id": "a9d6a643",
   "metadata": {},
   "outputs": [],
   "source": [
    "import os\n",
    "from osgeo import ogr\n",
    "\n",
    "import matplotlib.pyplot as plt"
   ]
  },
  {
   "cell_type": "markdown",
   "id": "9545ff2b",
   "metadata": {},
   "source": [
    "## Working with points"
   ]
  },
  {
   "cell_type": "markdown",
   "id": "aa4b2300",
   "metadata": {},
   "source": [
    "### Single points"
   ]
  },
  {
   "cell_type": "code",
   "execution_count": 2,
   "id": "d8d5a7e4",
   "metadata": {},
   "outputs": [],
   "source": [
    "# Create the firepit point.\n",
    "point = ogr.Geometry(ogr.wkbPoint)\n",
    "point.AddPoint(59.5, 11.5)"
   ]
  },
  {
   "cell_type": "code",
   "execution_count": 3,
   "id": "0359a831",
   "metadata": {},
   "outputs": [
    {
     "name": "stdout",
     "output_type": "stream",
     "text": [
      "59.5, 11.5\n"
     ]
    }
   ],
   "source": [
    "# Try out GetX and GetY.\n",
    "x, y = point.GetX(), point.GetY()\n",
    "print('{}, {}'.format(x, y))"
   ]
  },
  {
   "cell_type": "code",
   "execution_count": 4,
   "id": "4d4409ce",
   "metadata": {},
   "outputs": [],
   "source": [
    "def _get_point_coords( geom):\n",
    "        \"\"\"Get point coordinates as an (x, y) tuple.\"\"\"\n",
    "        return (geom.GetX(), geom.GetY())"
   ]
  },
  {
   "cell_type": "code",
   "execution_count": 5,
   "id": "b8c1197e",
   "metadata": {},
   "outputs": [],
   "source": [
    "def plot_point(geom, style):\n",
    "    data = _get_point_coords(point)\n",
    "    plt.plot(data[0], data[1], style);"
   ]
  },
  {
   "cell_type": "code",
   "execution_count": 6,
   "id": "4cb0fb9d",
   "metadata": {},
   "outputs": [
    {
     "data": {
      "image/png": "[encoded data removed]",
      "text/plain": [
       "<Figure size 432x288 with 1 Axes>"
      ]
     },
     "metadata": {
      "needs_background": "light"
     },
     "output_type": "display_data"
    }
   ],
   "source": [
    "plot_point(point, 'go')"
   ]
  },
  {
   "cell_type": "code",
   "execution_count": 7,
   "id": "57cc4a62",
   "metadata": {},
   "outputs": [
    {
     "name": "stdout",
     "output_type": "stream",
     "text": [
      "POINT (59.5 13.0 0)\n"
     ]
    }
   ],
   "source": [
    "# Edit the point coordinates.\n",
    "point.AddPoint(59.5, 13)\n",
    "print(point)"
   ]
  },
  {
   "cell_type": "code",
   "execution_count": 8,
   "id": "a26573a2",
   "metadata": {},
   "outputs": [
    {
     "name": "stdout",
     "output_type": "stream",
     "text": [
      "POINT (10 15 0)\n"
     ]
    }
   ],
   "source": [
    "# Or edit the point using SetPoint instead of AddPoint.\n",
    "point.SetPoint(0, 10, 15)\n",
    "print(point)"
   ]
  },
  {
   "cell_type": "code",
   "execution_count": 9,
   "id": "df092846",
   "metadata": {},
   "outputs": [
    {
     "name": "stdout",
     "output_type": "stream",
     "text": [
      "POINT (59.5 11.5 2)\n"
     ]
    }
   ],
   "source": [
    "# Make a 2.5D point.\n",
    "point = ogr.Geometry(ogr.wkbPoint25D)\n",
    "point.AddPoint(59.5, 11.5, 2)\n",
    "print(point)"
   ]
  },
  {
   "cell_type": "markdown",
   "id": "fde52566",
   "metadata": {},
   "source": [
    "### Multiple points"
   ]
  },
  {
   "cell_type": "code",
   "execution_count": 10,
   "id": "7329e67d",
   "metadata": {},
   "outputs": [
    {
     "data": {
      "text/plain": [
       "0"
      ]
     },
     "execution_count": 10,
     "metadata": {},
     "output_type": "execute_result"
    }
   ],
   "source": [
    "# Create the multipoint \n",
    "points = ogr.Geometry(ogr.wkbMultiPoint)\n",
    "\n",
    "point = ogr.Geometry(ogr.wkbPoint)\n",
    "point.AddPoint(67.5, 16)\n",
    "points.AddGeometry(point)\n",
    "\n",
    "point.AddPoint(73, 31)\n",
    "points.AddGeometry(point)\n",
    "\n",
    "point.AddPoint(91, 24.5)\n",
    "points.AddGeometry(point)"
   ]
  },
  {
   "cell_type": "code",
   "execution_count": 11,
   "id": "60b363c0",
   "metadata": {},
   "outputs": [
    {
     "name": "stdout",
     "output_type": "stream",
     "text": [
      "MULTIPOINT (67.5 16.0 0,73 31 0,91.0 24.5 0)\n"
     ]
    }
   ],
   "source": [
    "print(points)"
   ]
  },
  {
   "cell_type": "code",
   "execution_count": 12,
   "id": "2aef3cd5",
   "metadata": {},
   "outputs": [],
   "source": [
    "def _get_multipoint_coords(geom):\n",
    "        \"\"\"Get multipoint coordinates as a list of (x, y) tuples.\"\"\"\n",
    "        coords = []\n",
    "        for i in range(geom.GetGeometryCount()):\n",
    "            coords.append(_get_point_coords(geom.GetGeometryRef(i)))\n",
    "        return coords"
   ]
  },
  {
   "cell_type": "code",
   "execution_count": 13,
   "id": "550cbb3c",
   "metadata": {},
   "outputs": [
    {
     "data": {
      "text/plain": [
       "[(67.5, 16.0), (73.0, 31.0), (91.0, 24.5)]"
      ]
     },
     "execution_count": 13,
     "metadata": {},
     "output_type": "execute_result"
    }
   ],
   "source": [
    "data = _get_multipoint_coords(points)\n",
    "data"
   ]
  },
  {
   "cell_type": "code",
   "execution_count": 14,
   "id": "a2761523",
   "metadata": {},
   "outputs": [],
   "source": [
    "def plot_points(geom):\n",
    "    for point in data:\n",
    "        #x, y = zip(*point)\n",
    "        x = point[0]\n",
    "        y = point[1]\n",
    "        plt.plot(x,y, 'bo')"
   ]
  },
  {
   "cell_type": "code",
   "execution_count": 15,
   "id": "0cb5f069",
   "metadata": {},
   "outputs": [
    {
     "data": {
      "image/png": "[encoded data removed]",
      "text/plain": [
       "<Figure size 432x288 with 1 Axes>"
      ]
     },
     "metadata": {
      "needs_background": "light"
     },
     "output_type": "display_data"
    }
   ],
   "source": [
    "plot_points(points)"
   ]
  },
  {
   "cell_type": "code",
   "execution_count": 16,
   "id": "0b20d5ce",
   "metadata": {},
   "outputs": [
    {
     "name": "stdout",
     "output_type": "stream",
     "text": [
      "MULTIPOINT (67.5 16.0 0,75 32 0,91.0 24.5 0)\n"
     ]
    }
   ],
   "source": [
    "# Edit the coordinates for the second faucet.\n",
    "points.GetGeometryRef(1).AddPoint(75, 32)\n",
    "print(points)"
   ]
  },
  {
   "cell_type": "code",
   "execution_count": 17,
   "id": "ea8004ac",
   "metadata": {},
   "outputs": [],
   "source": [
    "# Move all points two units to the east\n",
    "for i in range(points.GetGeometryCount()):\n",
    "    pt = points.GetGeometryRef(i)\n",
    "    pt.AddPoint(pt.GetX() + 10, pt.GetY() - 10)"
   ]
  },
  {
   "cell_type": "code",
   "execution_count": 18,
   "id": "a78ff396",
   "metadata": {},
   "outputs": [
    {
     "name": "stdout",
     "output_type": "stream",
     "text": [
      "MULTIPOINT (77.5 6.0 0,85 22 0,101.0 14.5 0)\n"
     ]
    }
   ],
   "source": [
    "print(points)"
   ]
  },
  {
   "cell_type": "code",
   "execution_count": 19,
   "id": "ed171450",
   "metadata": {},
   "outputs": [
    {
     "data": {
      "image/png": "[encoded data removed]",
      "text/plain": [
       "<Figure size 432x288 with 1 Axes>"
      ]
     },
     "metadata": {
      "needs_background": "light"
     },
     "output_type": "display_data"
    }
   ],
   "source": [
    "plot_points(points)"
   ]
  },
  {
   "cell_type": "markdown",
   "id": "5aef6428",
   "metadata": {},
   "source": [
    "## Working with lines"
   ]
  },
  {
   "cell_type": "markdown",
   "id": "85d64289",
   "metadata": {},
   "source": [
    "### Single lines"
   ]
  },
  {
   "cell_type": "code",
   "execution_count": 20,
   "id": "43bb7adf",
   "metadata": {},
   "outputs": [
    {
     "name": "stdout",
     "output_type": "stream",
     "text": [
      "LINESTRING (54 37 0,70.5 38.0 0,74.5 41.5 0)\n"
     ]
    }
   ],
   "source": [
    "# Create a line. Make sure to add the vertices in order.\n",
    "line = ogr.Geometry(ogr.wkbLineString)\n",
    "line.AddPoint(54, 37)\n",
    "#line.AddPoint(62, 35.5)\n",
    "line.AddPoint(70.5, 38)\n",
    "line.AddPoint(74.5, 41.5)\n",
    "print(line)"
   ]
  },
  {
   "cell_type": "code",
   "execution_count": 21,
   "id": "324cd43f",
   "metadata": {},
   "outputs": [],
   "source": [
    "def _get_line_coords(geom):\n",
    "        \"\"\"Get line coordinates as a list of (x, y) tuples.\"\"\"\n",
    "        return [coords[:2] for coords in geom.GetPoints()]"
   ]
  },
  {
   "cell_type": "code",
   "execution_count": 22,
   "id": "83223edb",
   "metadata": {},
   "outputs": [],
   "source": [
    "def plot_line(geom):\n",
    "    data = _get_line_coords(geom)\n",
    "    \n",
    "    x, y = zip(*data)\n",
    "    plt.plot(x, y, 'b-');"
   ]
  },
  {
   "cell_type": "code",
   "execution_count": 65,
   "id": "67079578",
   "metadata": {},
   "outputs": [
    {
     "data": {
      "image/png": "[encoded data removed]",
      "text/plain": [
       "<Figure size 432x288 with 1 Axes>"
      ]
     },
     "metadata": {
      "needs_background": "light"
     },
     "output_type": "display_data"
    }
   ],
   "source": [
    "plot_line(line)"
   ]
  },
  {
   "cell_type": "code",
   "execution_count": 25,
   "id": "58db2099",
   "metadata": {},
   "outputs": [
    {
     "name": "stdout",
     "output_type": "stream",
     "text": [
      "LINESTRING (54 37 0,70.5 38.0 0,-16 41.5 0,76.0 41.5 0)\n"
     ]
    }
   ],
   "source": [
    "# Change the last vertex.\n",
    "line.SetPoint(2, -16, 41.5)\n",
    "print(line)"
   ]
  },
  {
   "cell_type": "code",
   "execution_count": 26,
   "id": "302911a4",
   "metadata": {},
   "outputs": [
    {
     "data": {
      "image/png": "[encoded data removed]",
      "text/plain": [
       "<Figure size 432x288 with 1 Axes>"
      ]
     },
     "metadata": {
      "needs_background": "light"
     },
     "output_type": "display_data"
    }
   ],
   "source": [
    "plot_line(line)"
   ]
  },
  {
   "cell_type": "code",
   "execution_count": 67,
   "id": "afa76002",
   "metadata": {},
   "outputs": [
    {
     "name": "stdout",
     "output_type": "stream",
     "text": [
      "LINESTRING (54 38 0,70.5 39.0 0,74.5 42.5 0)\n"
     ]
    }
   ],
   "source": [
    "# Move the line one unit to the north.\n",
    "for i in range(line.GetPointCount()):\n",
    "    line.SetPoint(i, line.GetX(i), line.GetY(i) + 1)\n",
    "print(line)"
   ]
  },
  {
   "cell_type": "code",
   "execution_count": 68,
   "id": "125f6ee2",
   "metadata": {},
   "outputs": [
    {
     "name": "stdout",
     "output_type": "stream",
     "text": [
      "3\n",
      "0\n"
     ]
    }
   ],
   "source": [
    "# Try out GetGeometryCount to prove it that it returns zero for a single\n",
    "# geometry.\n",
    "print(line.GetPointCount()) # vertices\n",
    "print(line.GetGeometryCount()) # sub-geometries"
   ]
  },
  {
   "cell_type": "code",
   "execution_count": 69,
   "id": "68112101",
   "metadata": {},
   "outputs": [
    {
     "name": "stdout",
     "output_type": "stream",
     "text": [
      "[(54.0, 38.0, 0.0), (70.5, 39.0, 0.0), (74.5, 42.5, 0.0)]\n",
      "[(54.0, 38.0, 0.0), (70.5, 39.0, 0.0), (66.5, 35), (74.5, 42.5, 0.0)]\n"
     ]
    }
   ],
   "source": [
    "# Look at the list of tuples containing vertex coordinates.\n",
    "print(line.GetPoints())\n",
    "\n",
    "# Insert a new vertex between the 2nd and 3rd vertices.\n",
    "vertices = line.GetPoints()\n",
    "vertices[2:2] = [(66.5, 35)]\n",
    "print(vertices)\n"
   ]
  },
  {
   "cell_type": "code",
   "execution_count": null,
   "id": "de8f9806",
   "metadata": {},
   "outputs": [],
   "source": [
    "# Create a new line geometry from the list of vertices.\n",
    "new_line = ogr.Geometry(ogr.wkbLineString)\n",
    "for vertex in vertices:\n",
    "    new_line.AddPoint(*vertex)\n",
    "\n",
    "print(new_line)"
   ]
  },
  {
   "cell_type": "markdown",
   "id": "304c7ba0",
   "metadata": {},
   "source": [
    "### The Python *  -operator"
   ]
  },
  {
   "cell_type": "code",
   "execution_count": null,
   "id": "639be2c4",
   "metadata": {},
   "outputs": [],
   "source": [
    "pt = ogr.Geometry(ogr.wkbPoint)\n",
    "vertex = (10, 20)\n",
    "\n",
    "# Resolves to pt.AddPoint(10, 20), which works\n",
    "pt.AddPoint(*vertex)\n",
    "\n",
    "# Resolves to pt.AddPoint((10, 20)), which fails because only one thing\n",
    "# (a tuple) is getting passed to AddPoint.\n",
    "pt.AddPoint(vertex)"
   ]
  },
  {
   "cell_type": "markdown",
   "id": "f05861e9",
   "metadata": {},
   "source": [
    "### Multiple lines "
   ]
  },
  {
   "cell_type": "code",
   "execution_count": null,
   "id": "9bc0de79",
   "metadata": {},
   "outputs": [],
   "source": [
    "# Create the pathways multiline. Create three individual lines, one for each\n",
    "# path. Then add them all to the multiline geometry.\n",
    "path1 = ogr.Geometry(ogr.wkbLineString)\n",
    "path1.AddPoint(61.5, 29)\n",
    "path1.AddPoint(63, 20)\n",
    "path1.AddPoint(62.5, 16)\n",
    "path1.AddPoint(60, 13)\n",
    "\n",
    "path2 = ogr.Geometry(ogr.wkbLineString)\n",
    "path2.AddPoint(60.5, 12)\n",
    "path2.AddPoint(68.5, 13.5)\n",
    "\n",
    "path3 = ogr.Geometry(ogr.wkbLineString)\n",
    "path3.AddPoint(69.5, 33)\n",
    "path3.AddPoint(80, 33)\n",
    "path3.AddPoint(86.5, 22.5)\n",
    "\n",
    "paths = ogr.Geometry(ogr.wkbMultiLineString)\n",
    "paths.AddGeometry(path1)\n",
    "paths.AddGeometry(path2)\n",
    "paths.AddGeometry(path3)\n",
    "\n",
    "# Take a look at the multiline.\n",
    "print(paths)"
   ]
  },
  {
   "cell_type": "code",
   "execution_count": null,
   "id": "04a5e6ee",
   "metadata": {},
   "outputs": [],
   "source": [
    "# Edit the second vertex in the first path.\n",
    "paths.GetGeometryRef(0).SetPoint(1, 63, 22)\n",
    "print(paths)"
   ]
  },
  {
   "cell_type": "code",
   "execution_count": null,
   "id": "f2a0380f",
   "metadata": {},
   "outputs": [],
   "source": [
    "def _get_multiline_coords(geom):\n",
    "        \"\"\"Get multiline coordinates as a list of lists of (x, y) tuples.\"\"\"\n",
    "        coords = []\n",
    "        for i in range(geom.GetGeometryCount()):\n",
    "            coords.append(_get_line_coords(geom.GetGeometryRef(i)))\n",
    "        return coords"
   ]
  },
  {
   "cell_type": "code",
   "execution_count": null,
   "id": "9c8da76f",
   "metadata": {},
   "outputs": [],
   "source": [
    "data = _get_multiline_coords(paths)"
   ]
  },
  {
   "cell_type": "code",
   "execution_count": null,
   "id": "78143385",
   "metadata": {},
   "outputs": [],
   "source": [
    "for line in data:\n",
    "    x, y = zip(*line)\n",
    "    plt.plot(x, y, 'b-')"
   ]
  },
  {
   "cell_type": "code",
   "execution_count": null,
   "id": "40ecf6c6",
   "metadata": {},
   "outputs": [],
   "source": [
    "# Move the line two units east and three south. Get each individual path from\n",
    "# the multipath with GetGeometryRef, and then edit the vertices for the path.\n",
    "for i in range(paths.GetGeometryCount()):\n",
    "    path = paths.GetGeometryRef(i)\n",
    "    for j in range(path.GetPointCount()):\n",
    "        path.SetPoint(j, path.GetX(j) + 2, path.GetY(j) - 3)\n",
    "print(paths)"
   ]
  },
  {
   "cell_type": "markdown",
   "id": "39c760e1",
   "metadata": {},
   "source": [
    "## Working with polygons"
   ]
  },
  {
   "cell_type": "markdown",
   "id": "d2bddd6f",
   "metadata": {},
   "source": [
    "### Single polygons"
   ]
  },
  {
   "cell_type": "code",
   "execution_count": null,
   "id": "3ffde072",
   "metadata": {},
   "outputs": [],
   "source": [
    "# Make the yard boundary polygon. Create a ring and add the vertices in order,\n",
    "# and then add the ring to the polygon.\n",
    "ring = ogr.Geometry(ogr.wkbLinearRing)\n",
    "ring.AddPoint(58, 38.5)\n",
    "ring.AddPoint(53, 6)\n",
    "ring.AddPoint(99.5, 19)\n",
    "ring.AddPoint(73, 42)\n",
    "yard = ogr.Geometry(ogr.wkbPolygon)\n",
    "yard.AddGeometry(ring)\n",
    "yard.CloseRings()"
   ]
  },
  {
   "cell_type": "code",
   "execution_count": null,
   "id": "9f60184a",
   "metadata": {},
   "outputs": [],
   "source": [
    "# Take a look at the polygon\n",
    "print(yard)"
   ]
  },
  {
   "cell_type": "code",
   "execution_count": null,
   "id": "364d6652",
   "metadata": {},
   "outputs": [],
   "source": [
    "def _get_polygon_coords(geom):\n",
    "        \"\"\"Get polygon coordinates as a list of lists of (x, y) tuples.\"\"\"\n",
    "        coords = []\n",
    "        for i in range(geom.GetGeometryCount()):\n",
    "            coords.append(_get_line_coords(geom.GetGeometryRef(i)))\n",
    "        return coords"
   ]
  },
  {
   "cell_type": "code",
   "execution_count": null,
   "id": "fb650a6a",
   "metadata": {},
   "outputs": [],
   "source": [
    "coords = _get_polygon_coords(yard)\n",
    "outer = coords[0]\n",
    "x, y = zip(*outer)\n",
    "plt.plot(x, y, 'r-')"
   ]
  },
  {
   "cell_type": "code",
   "execution_count": null,
   "id": "125601fe",
   "metadata": {},
   "outputs": [],
   "source": [
    "# Move the polygon five units west, by moving the ring.\n",
    "ring = yard.GetGeometryRef(0)\n",
    "for i in range(ring.GetPointCount()):\n",
    "    ring.SetPoint(i, ring.GetX(i) - 5, ring.GetY(i))"
   ]
  },
  {
   "cell_type": "code",
   "execution_count": null,
   "id": "8ee05fde",
   "metadata": {},
   "outputs": [],
   "source": [
    "print(yard)"
   ]
  },
  {
   "cell_type": "code",
   "execution_count": null,
   "id": "56f1af8a",
   "metadata": {},
   "outputs": [],
   "source": [
    "# Cut off one of the sharp corners by replacing the third vertex with two other\n",
    "# vertices.\n",
    "ring = yard.GetGeometryRef(0)\n",
    "vertices = ring.GetPoints()\n",
    "vertices[2:3] = ((90, 16), (90, 27))\n",
    "for i in range(len(vertices)):\n",
    "    ring.SetPoint(i, *vertices[i])"
   ]
  },
  {
   "cell_type": "code",
   "execution_count": null,
   "id": "5a94cf37",
   "metadata": {},
   "outputs": [],
   "source": [
    "print(yard)"
   ]
  },
  {
   "cell_type": "markdown",
   "id": "4f3e9f65",
   "metadata": {},
   "source": [
    "### Multiple polygons"
   ]
  },
  {
   "cell_type": "code",
   "execution_count": null,
   "id": "584a4696",
   "metadata": {},
   "outputs": [],
   "source": [
    "# Make the garden boxes multipolygon. Create a regular polygon for each raised\n",
    "# bed, and then add it to the multipolygon. This is the code in listing 6.3.\n",
    "box1 = ogr.Geometry(ogr.wkbLinearRing)\n",
    "box1.AddPoint(87.5, 25.5)\n",
    "box1.AddPoint(89, 25.5)\n",
    "box1.AddPoint(89, 24)\n",
    "box1.AddPoint(87.5, 24)\n",
    "garden1 = ogr.Geometry(ogr.wkbPolygon)\n",
    "garden1.AddGeometry(box1)\n",
    "\n",
    "box2 = ogr.Geometry(ogr.wkbLinearRing)\n",
    "box2.AddPoint(89, 23)\n",
    "box2.AddPoint(92, 23)\n",
    "box2.AddPoint(92,22)\n",
    "box2.AddPoint(89,22)\n",
    "garden2 = ogr.Geometry(ogr.wkbPolygon)\n",
    "garden2.AddGeometry(box2)\n",
    "\n",
    "gardens = ogr.Geometry(ogr.wkbMultiPolygon)\n",
    "gardens.AddGeometry(garden1)\n",
    "gardens.AddGeometry(garden2)\n",
    "gardens.CloseRings()"
   ]
  },
  {
   "cell_type": "code",
   "execution_count": null,
   "id": "af8f3217",
   "metadata": {},
   "outputs": [],
   "source": [
    "print(gardens)"
   ]
  },
  {
   "cell_type": "code",
   "execution_count": null,
   "id": "781660a0",
   "metadata": {},
   "outputs": [],
   "source": [
    "def _get_multipolygon_coords( geom):\n",
    "        \"\"\"Get multipolygon coordinates as a list of lists rings.\"\"\"\n",
    "        coords = []\n",
    "        for i in range(geom.GetGeometryCount()):\n",
    "            coords.append(_get_polygon_coords(geom.GetGeometryRef(i)))\n",
    "        return coords"
   ]
  },
  {
   "cell_type": "code",
   "execution_count": null,
   "id": "313a5270",
   "metadata": {},
   "outputs": [],
   "source": [
    "data = _get_multipolygon_coords(gardens)\n",
    "\n",
    "for poly in data:\n",
    "    outer = poly[0]\n",
    "    x, y = zip(*outer)\n",
    "    plt.plot(x, y, 'r-')"
   ]
  },
  {
   "cell_type": "code",
   "execution_count": null,
   "id": "c6fdb83a",
   "metadata": {},
   "outputs": [],
   "source": [
    "# Move the garden boxes on unit east and half a unit north. For each polygon\n",
    "# contained in the multipolygon, get the ring and edit its vertices.\n",
    "for i in range(gardens.GetGeometryCount()):\n",
    "    ring = gardens.GetGeometryRef(i).GetGeometryRef(0)\n",
    "    for j in range(ring.GetPointCount()):\n",
    "        ring.SetPoint(j, ring.GetX(j) + 1, ring.GetY(j) + 0.5)\n",
    "\n",
    "print(gardens)"
   ]
  },
  {
   "cell_type": "markdown",
   "id": "a5957cbc",
   "metadata": {},
   "source": [
    "### Polygons with holes"
   ]
  },
  {
   "cell_type": "code",
   "execution_count": null,
   "id": "e040edf0",
   "metadata": {},
   "outputs": [],
   "source": [
    "# Make the yard multipolygon, but this time cut out a hole for the house.\n",
    "# Make the outer boundary ring first (it's the same as earlier). Then make the\n",
    "# ring for the house (hole). Then create a polygon and add the rings, making\n",
    "# sure to add the outer boundary first. Close all of the rings at once by\n",
    "# calling CloseRings *after* adding all of the rings.\n",
    "lot = ogr.Geometry(ogr.wkbLinearRing)\n",
    "lot.AddPoint(58, 38.5)\n",
    "lot.AddPoint(53, 6)\n",
    "lot.AddPoint(99.5, 19)\n",
    "lot.AddPoint(73, 42)\n",
    "\n",
    "house = ogr.Geometry(ogr.wkbLinearRing)\n",
    "house.AddPoint(67.5, 29)\n",
    "house.AddPoint(69, 25.5)\n",
    "house.AddPoint(64, 23)\n",
    "house.AddPoint(69, 15)\n",
    "house.AddPoint(82.5, 22)\n",
    "house.AddPoint(76, 31.5)\n",
    "\n",
    "yard = ogr.Geometry(ogr.wkbPolygon)\n",
    "yard.AddGeometry(lot)\n",
    "yard.AddGeometry(house)\n",
    "yard.CloseRings()"
   ]
  },
  {
   "cell_type": "code",
   "execution_count": null,
   "id": "0f4542a9",
   "metadata": {},
   "outputs": [],
   "source": [
    "print(gardens)"
   ]
  },
  {
   "cell_type": "code",
   "execution_count": null,
   "id": "d12cfba6",
   "metadata": {},
   "outputs": [],
   "source": [
    "# Move the yard five units south. Get each ring the same way you would get an\n",
    "# inner polygon from a multipolygon.\n",
    "for i in range(yard.GetGeometryCount()):\n",
    "    ring = yard.GetGeometryRef(i)\n",
    "    for j in range(ring.GetPointCount()):\n",
    "        ring.SetPoint(j, ring.GetX(j) - 5, ring.GetY(j))"
   ]
  },
  {
   "cell_type": "code",
   "execution_count": null,
   "id": "0b0859b9",
   "metadata": {},
   "outputs": [],
   "source": [
    "print(gardens)"
   ]
  },
  {
   "cell_type": "code",
   "execution_count": null,
   "id": "493496d9",
   "metadata": {},
   "outputs": [],
   "source": []
  }
 ],
 "metadata": {
  "kernelspec": {
   "display_name": "Python 3 (ipykernel)",
   "language": "python",
   "name": "python3"
  },
  "language_info": {
   "codemirror_mode": {
    "name": "ipython",
    "version": 3
   },
   "file_extension": ".py",
   "mimetype": "text/x-python",
   "name": "python",
   "nbconvert_exporter": "python",
   "pygments_lexer": "ipython3",
   "version": "3.9.7"
  }
 },
 "nbformat": 4,
 "nbformat_minor": 5
}
