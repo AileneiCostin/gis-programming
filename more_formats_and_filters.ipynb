{
 "cells": [
  {
   "cell_type": "markdown",
   "id": "1e835c9e",
   "metadata": {},
   "source": [
    "## More data formats"
   ]
  },
  {
   "cell_type": "code",
   "execution_count": 2,
   "id": "a1db1fad",
   "metadata": {},
   "outputs": [],
   "source": [
    "import os\n",
    "from osgeo import ogr\n",
    "import osgeopy as gp\n",
    "\n",
    "data_dir = r'osgeopy-data'"
   ]
  },
  {
   "cell_type": "code",
   "execution_count": 2,
   "id": "acf7b0a4",
   "metadata": {},
   "outputs": [],
   "source": [
    "# A function to print out the layers in a data source.\n",
    "def print_layers(fn):\n",
    "    ds = ogr.Open(fn, 0)\n",
    "    if ds is None:\n",
    "        raise OSError('Could not open {}'.format(fn))\n",
    "    for i in range(ds.GetLayerCount()):\n",
    "        lyr = ds.GetLayer(i)\n",
    "        print(f'{i}: {lyr.GetName()}')"
   ]
  },
  {
   "cell_type": "code",
   "execution_count": 3,
   "id": "0c5981df",
   "metadata": {},
   "outputs": [
    {
     "name": "stdout",
     "output_type": "stream",
     "text": [
      "0: large_cities\n"
     ]
    }
   ],
   "source": [
    "# Try out the function.\n",
    "fn = os.path.join(data_dir, 'Washington')\n",
    "print_layers(fn)"
   ]
  },
  {
   "cell_type": "markdown",
   "id": "e1247858",
   "metadata": {},
   "source": [
    "### Esri file geodatabase"
   ]
  },
  {
   "cell_type": "code",
   "execution_count": 4,
   "id": "3671148b",
   "metadata": {},
   "outputs": [
    {
     "name": "stdout",
     "output_type": "stream",
     "text": [
      "0: countries_10m (MultiPolygon)\n",
      "1: populated_places_10m (Point)\n",
      "2: countries_110m (MultiPolygon)\n",
      "3: populated_places_110m (Point)\n"
     ]
    }
   ],
   "source": [
    "# Print out layers in an Esri file geodatabase.\n",
    "fn = os.path.join(data_dir, 'global', 'natural_earth.gdb')\n",
    "gp.print_layers(fn)"
   ]
  },
  {
   "cell_type": "code",
   "execution_count": 5,
   "id": "e46ac80e",
   "metadata": {},
   "outputs": [],
   "source": [
    "# Get a layer inside a feature dataset.\n",
    "ds = ogr.Open(fn)\n",
    "lyr = ds.GetLayer('countries_10m')"
   ]
  },
  {
   "cell_type": "code",
   "execution_count": 6,
   "id": "0df53458",
   "metadata": {},
   "outputs": [
    {
     "name": "stdout",
     "output_type": "stream",
     "text": [
      "FID    Geometry        NAME           POP_EST       \n",
      "1      MULTIPOLYGON    Aruba          103065.0      \n",
      "2      MULTIPOLYGON    Afghanistan    28400000.0    \n",
      "3      MULTIPOLYGON    Angola         12799293.0    \n",
      "4      MULTIPOLYGON    Anguilla       14436.0       \n",
      "5      MULTIPOLYGON    Albania        3639453.0     \n",
      "5 of 255 features\n"
     ]
    }
   ],
   "source": [
    "# Print out some attributes to make sure it worked.\n",
    "gp.print_attributes(lyr, 5, ['NAME', 'POP_EST'])"
   ]
  },
  {
   "cell_type": "code",
   "execution_count": 7,
   "id": "73088429",
   "metadata": {},
   "outputs": [],
   "source": [
    "# Export a feature class from geodatabase to a shapefile.\n",
    "out_folder = os.path.join(data_dir, 'global')\n",
    "gdb_ds = ogr.Open(fn)\n",
    "gdb_lyr = gdb_ds.GetLayerByName('countries_110m')\n",
    "shp_ds = ogr.Open(out_folder, 1)\n",
    "shp_ds.CopyLayer(gdb_lyr, 'countries_110m')\n",
    "del shp_ds, gdb_ds"
   ]
  },
  {
   "cell_type": "code",
   "execution_count": 8,
   "id": "77753df0",
   "metadata": {},
   "outputs": [
    {
     "data": {
      "text/plain": [
       "177"
      ]
     },
     "execution_count": 8,
     "metadata": {},
     "output_type": "execute_result"
    }
   ],
   "source": [
    "ds = ogr.Open(os.path.join(data_dir, 'global', 'countries_110m.shp'))\n",
    "lyr = ds.GetLayer(0)\n",
    "\n",
    "num_features = lyr.GetFeatureCount()\n",
    "num_features"
   ]
  },
  {
   "cell_type": "markdown",
   "id": "4dd8223a",
   "metadata": {},
   "source": [
    "## Web Feature Service"
   ]
  },
  {
   "cell_type": "code",
   "execution_count": 28,
   "id": "4886bd32",
   "metadata": {},
   "outputs": [],
   "source": [
    "# Print out layers in a WFS.\n",
    "url = 'WFS:http://ogc.bgs.ac.uk/digmap625k_gsml_insp_gs/wfs?'\n",
    "#gp.print_layers(url)\n",
    "ds = ogr.Open(url)"
   ]
  },
  {
   "cell_type": "code",
   "execution_count": 35,
   "id": "00ea6f56",
   "metadata": {},
   "outputs": [
    {
     "name": "stdout",
     "output_type": "stream",
     "text": [
      "11242\n",
      "lithodemic unit\n"
     ]
    }
   ],
   "source": [
    "# Get the first warning from the WFS. This might take a while because it has\n",
    "# to download all of the data first.\n",
    "ds = ogr.Open(url)\n",
    "lyr = ds.GetLayer(1)\n",
    "print(lyr.GetFeatureCount())\n",
    "feat = lyr.GetNextFeature()\n",
    "#gp.print_attributes(lyr,1)\n",
    "print(feat.GetField('geologicUnitType'))"
   ]
  },
  {
   "cell_type": "code",
   "execution_count": 37,
   "id": "ec64e1a1",
   "metadata": {},
   "outputs": [
    {
     "ename": "AttributeError",
     "evalue": "'NoneType' object has no attribute 'GetLayer'",
     "output_type": "error",
     "traceback": [
      "\u001b[1;31m---------------------------------------------------------------------------\u001b[0m",
      "\u001b[1;31mAttributeError\u001b[0m                            Traceback (most recent call last)",
      "Input \u001b[1;32mIn [37]\u001b[0m, in \u001b[0;36m<cell line: 3>\u001b[1;34m()\u001b[0m\n\u001b[0;32m      1\u001b[0m \u001b[38;5;66;03m# Get the first warning from the WFS by limiting the returned features to 1.\u001b[39;00m\n\u001b[0;32m      2\u001b[0m ds \u001b[38;5;241m=\u001b[39m ogr\u001b[38;5;241m.\u001b[39mOpen(url \u001b[38;5;241m+\u001b[39m \u001b[38;5;124m'\u001b[39m\u001b[38;5;124m?MAXFEATURES=1\u001b[39m\u001b[38;5;124m'\u001b[39m)\n\u001b[1;32m----> 3\u001b[0m lyr \u001b[38;5;241m=\u001b[39m \u001b[43mds\u001b[49m\u001b[38;5;241;43m.\u001b[39;49m\u001b[43mGetLayer\u001b[49m(\u001b[38;5;241m1\u001b[39m)\n\u001b[0;32m      4\u001b[0m \u001b[38;5;28mprint\u001b[39m(lyr\u001b[38;5;241m.\u001b[39mGetFeatureCount())\n",
      "\u001b[1;31mAttributeError\u001b[0m: 'NoneType' object has no attribute 'GetLayer'"
     ]
    }
   ],
   "source": [
    "# Get the first warning from the WFS by limiting the returned features to 1.\n",
    "ds = ogr.Open(url + '?MAXFEATURES=1')\n",
    "lyr = ds.GetLayer(1)\n",
    "print(lyr.GetFeatureCount())"
   ]
  },
  {
   "cell_type": "markdown",
   "id": "5c7a4159",
   "metadata": {},
   "source": [
    "## Attribute filters"
   ]
  },
  {
   "cell_type": "code",
   "execution_count": 9,
   "id": "ce6c91d2",
   "metadata": {},
   "outputs": [],
   "source": [
    "# Get the countries shapefile layer\n",
    "ds = ogr.Open(os.path.join(data_dir, 'global'))\n",
    "lyr = ds.GetLayer('ne_50m_admin_0_countries')"
   ]
  },
  {
   "cell_type": "code",
   "execution_count": 10,
   "id": "16117282",
   "metadata": {},
   "outputs": [
    {
     "name": "stdout",
     "output_type": "stream",
     "text": [
      "North America\n",
      "Asia\n",
      "Africa\n",
      "North America\n",
      "Europe\n",
      "Europe\n",
      "Europe\n",
      "Asia\n",
      "South America\n",
      "Asia\n",
      "Oceania\n",
      "Antarctica\n",
      "Oceania\n",
      "Seven seas (open ocean)\n",
      "North America\n",
      "Oceania\n",
      "Europe\n",
      "Asia\n",
      "Africa\n",
      "Europe\n",
      "Africa\n",
      "Africa\n",
      "Asia\n",
      "Europe\n",
      "Asia\n",
      "North America\n",
      "Europe\n",
      "North America\n",
      "Europe\n",
      "North America\n",
      "North America\n",
      "South America\n",
      "South America\n",
      "North America\n",
      "Asia\n",
      "Asia\n",
      "Africa\n",
      "Africa\n",
      "North America\n",
      "Europe\n",
      "South America\n",
      "Asia\n",
      "Africa\n",
      "Africa\n",
      "Africa\n",
      "Africa\n",
      "Oceania\n",
      "South America\n",
      "Africa\n",
      "Africa\n",
      "North America\n",
      "North America\n",
      "North America\n",
      "North America\n",
      "Asia\n",
      "Asia\n",
      "Europe\n",
      "Europe\n",
      "Africa\n",
      "North America\n",
      "Europe\n",
      "North America\n",
      "Africa\n",
      "South America\n",
      "Africa\n",
      "Africa\n",
      "Europe\n",
      "Europe\n",
      "Africa\n",
      "Europe\n",
      "Oceania\n",
      "South America\n",
      "Europe\n",
      "Europe\n",
      "Oceania\n",
      "Africa\n",
      "Europe\n",
      "Asia\n",
      "Europe\n",
      "Africa\n",
      "Africa\n",
      "Africa\n",
      "Africa\n",
      "Africa\n",
      "Europe\n",
      "North America\n",
      "North America\n",
      "North America\n",
      "Oceania\n",
      "South America\n",
      "Asia\n",
      "Seven seas (open ocean)\n",
      "North America\n",
      "Europe\n",
      "North America\n",
      "Europe\n",
      "Asia\n",
      "Europe\n",
      "Asia\n",
      "Asia\n",
      "Seven seas (open ocean)\n",
      "Europe\n",
      "Asia\n",
      "Asia\n",
      "Europe\n",
      "Asia\n",
      "Europe\n",
      "North America\n",
      "Europe\n",
      "Asia\n",
      "Asia\n",
      "Asia\n",
      "Asia\n",
      "Africa\n",
      "Asia\n",
      "Asia\n",
      "Oceania\n",
      "North America\n",
      "Asia\n",
      "Europe\n",
      "Asia\n",
      "Asia\n",
      "Asia\n",
      "Africa\n",
      "Africa\n",
      "North America\n",
      "Europe\n",
      "Asia\n",
      "Africa\n",
      "Europe\n",
      "Europe\n",
      "Europe\n",
      "Asia\n",
      "North America\n",
      "Africa\n",
      "Europe\n",
      "Europe\n",
      "Africa\n",
      "Seven seas (open ocean)\n",
      "North America\n",
      "Oceania\n",
      "Europe\n",
      "Africa\n",
      "Europe\n",
      "Asia\n",
      "Europe\n",
      "Asia\n",
      "Oceania\n",
      "Africa\n",
      "Africa\n",
      "North America\n",
      "Seven seas (open ocean)\n",
      "Africa\n",
      "Asia\n",
      "Africa\n",
      "Oceania\n",
      "Africa\n",
      "Oceania\n",
      "Africa\n",
      "North America\n",
      "Oceania\n",
      "Europe\n",
      "Europe\n",
      "Asia\n",
      "Oceania\n",
      "Oceania\n",
      "Asia\n",
      "Asia\n",
      "North America\n",
      "Oceania\n",
      "South America\n",
      "Asia\n",
      "Oceania\n",
      "Oceania\n",
      "Europe\n",
      "North America\n",
      "Asia\n",
      "Europe\n",
      "South America\n",
      "Asia\n",
      "Oceania\n",
      "Asia\n",
      "Europe\n",
      "Europe\n",
      "Africa\n",
      "Africa\n",
      "Asia\n",
      "Africa\n",
      "Africa\n",
      "Africa\n",
      "Asia\n",
      "Seven seas (open ocean)\n",
      "Seven seas (open ocean)\n",
      "Oceania\n",
      "Africa\n",
      "North America\n",
      "Europe\n",
      "Africa\n",
      "Africa\n",
      "North America\n",
      "Europe\n",
      "Africa\n",
      "South America\n",
      "Europe\n",
      "Europe\n",
      "Europe\n",
      "Africa\n",
      "North America\n",
      "Seven seas (open ocean)\n",
      "Asia\n",
      "North America\n",
      "Africa\n",
      "Africa\n",
      "Asia\n",
      "Asia\n",
      "Asia\n",
      "Asia\n",
      "Oceania\n",
      "North America\n",
      "Africa\n",
      "Asia\n",
      "Asia\n",
      "Africa\n",
      "Africa\n",
      "Europe\n",
      "South America\n",
      "North America\n",
      "Asia\n",
      "Europe\n",
      "North America\n",
      "South America\n",
      "North America\n",
      "North America\n",
      "Asia\n",
      "Oceania\n",
      "Oceania\n",
      "Oceania\n",
      "Asia\n",
      "Africa\n",
      "Africa\n",
      "Africa\n"
     ]
    }
   ],
   "source": [
    "for i in range(lyr.GetFeatureCount()):\n",
    "    feature = lyr.GetNextFeature()\n",
    "    field_value = feature.GetField('continent')\n",
    "    print(f'{field_value}')"
   ]
  },
  {
   "cell_type": "code",
   "execution_count": 14,
   "id": "d6c210c2",
   "metadata": {},
   "outputs": [
    {
     "data": {
      "text/plain": [
       "53"
      ]
     },
     "execution_count": 14,
     "metadata": {},
     "output_type": "execute_result"
    }
   ],
   "source": [
    "# Apply a filter that finds countries in Asia and see how many records there\n",
    "# are now.\n",
    "lyr.SetAttributeFilter(\"continent = \\'Asia\\'\")\n",
    "lyr.GetFeatureCount()"
   ]
  },
  {
   "cell_type": "code",
   "execution_count": 16,
   "id": "f0ea47e5",
   "metadata": {},
   "outputs": [
    {
     "data": {
      "text/plain": [
       "'Angola'"
      ]
     },
     "execution_count": 16,
     "metadata": {},
     "output_type": "execute_result"
    }
   ],
   "source": [
    "# You can still get a feature that is not in Asia by using its FID.\n",
    "lyr.GetFeature(2).GetField('name')"
   ]
  },
  {
   "cell_type": "code",
   "execution_count": 18,
   "id": "ee53219b",
   "metadata": {},
   "outputs": [
    {
     "data": {
      "text/plain": [
       "13"
      ]
     },
     "execution_count": 18,
     "metadata": {},
     "output_type": "execute_result"
    }
   ],
   "source": [
    "# Set a new filter that selects South American countries and show the results\n",
    "# in blue. The old filter is no longer in effect.\n",
    "lyr.SetAttributeFilter(\"continent = \\'South America\\'\")\n",
    "lyr.GetFeatureCount()"
   ]
  },
  {
   "cell_type": "code",
   "execution_count": 19,
   "id": "a5823667",
   "metadata": {},
   "outputs": [
    {
     "data": {
      "text/plain": [
       "241"
      ]
     },
     "execution_count": 19,
     "metadata": {},
     "output_type": "execute_result"
    }
   ],
   "source": [
    "# Clear all attribute filters.\n",
    "lyr.SetAttributeFilter(None)\n",
    "lyr.GetFeatureCount()"
   ]
  },
  {
   "cell_type": "markdown",
   "id": "35c91a51",
   "metadata": {},
   "source": [
    "## Spatial filters"
   ]
  },
  {
   "cell_type": "code",
   "execution_count": 4,
   "id": "a14d557e",
   "metadata": {},
   "outputs": [
    {
     "data": {
      "text/plain": [
       "1"
      ]
     },
     "execution_count": 4,
     "metadata": {},
     "output_type": "execute_result"
    }
   ],
   "source": [
    "# Get the Germany polygon.\n",
    "ds = ogr.Open(os.path.join(data_dir, 'global'))\n",
    "country_lyr = ds.GetLayer('ne_50m_admin_0_countries')\n",
    "\n",
    "country_lyr.SetAttributeFilter(\"name = \\'Germany\\'\")\n",
    "country_lyr.GetFeatureCount()"
   ]
  },
  {
   "cell_type": "code",
   "execution_count": 5,
   "id": "7cb8195e",
   "metadata": {},
   "outputs": [],
   "source": [
    "feat = country_lyr.GetNextFeature()\n",
    "germany = feat.geometry().Clone()"
   ]
  },
  {
   "cell_type": "code",
   "execution_count": 6,
   "id": "ba28d695",
   "metadata": {},
   "outputs": [
    {
     "data": {
      "text/plain": [
       "5"
      ]
     },
     "execution_count": 6,
     "metadata": {},
     "output_type": "execute_result"
    }
   ],
   "source": [
    "city_lyr = ds.GetLayer('ne_50m_populated_places')\n",
    "city_lyr.GetFeatureCount()\n",
    "# Use the Germany polygon to set a spatial filter and draw the result as blue\n",
    "# circles.\n",
    "city_lyr.SetSpatialFilter(germany)\n",
    "city_lyr.GetFeatureCount()"
   ]
  },
  {
   "cell_type": "code",
   "execution_count": null,
   "id": "06258657",
   "metadata": {},
   "outputs": [],
   "source": [
    "# Add an attribute filter to find the cities with a population over 1,000,000\n",
    "# and draw them as red squares. Since the spatial filter is still in effect,\n",
    "# you should only get large cities in Germany.\n",
    "city_lyr.SetAttributeFilter('pop_min > 1000000')\n",
    "city_lyr.GetFeatureCount()"
   ]
  },
  {
   "cell_type": "code",
   "execution_count": null,
   "id": "4f49a20c",
   "metadata": {},
   "outputs": [],
   "source": [
    "# Remove the spatial filter so now you get global cities with a population\n",
    "# over 1,000,000. Draw the results as magenta triangles.\n",
    "city_lyr.SetSpatialFilter(None)\n",
    "city_lyr.GetFeatureCount()"
   ]
  },
  {
   "cell_type": "markdown",
   "id": "99897d90",
   "metadata": {},
   "source": [
    "### To clone or not to clone? "
   ]
  },
  {
   "cell_type": "code",
   "execution_count": null,
   "id": "c4c0063b",
   "metadata": {},
   "outputs": [],
   "source": [
    "# Get a sample layer and the first feature from it.\n",
    "ds = ogr.Open(os.path.join(data_dir, 'global'))\n",
    "lyr = ds.GetLayer('ne_50m_admin_0_countries')\n",
    "feat = lyr.GetNextFeature()\n",
    "\n",
    "# Now get the feature's geometry and also a clone of that geometry.\n",
    "geom = feat.geometry()\n",
    "geom_clone = feat.geometry().Clone()\n"
   ]
  },
  {
   "cell_type": "code",
   "execution_count": null,
   "id": "b2bd0be8",
   "metadata": {},
   "outputs": [],
   "source": [
    "# Set the feat variable to a new feature, so the original one is no longer\n",
    "# accessible.\n",
    "feat = lyr.GetNextFeature()\n",
    "\n",
    "# Try to get the area of the cloned polygon. This should work just fine.\n",
    "print(geom_clone.GetArea())"
   ]
  },
  {
   "cell_type": "code",
   "execution_count": null,
   "id": "a2944afa",
   "metadata": {},
   "outputs": [],
   "source": [
    "# Try to get the area of the original polygon. This should cause Python to\n",
    "# crash because the polygon is linked to the feature that is no longer\n",
    "# available.\n",
    "print(geom.GetArea())"
   ]
  },
  {
   "cell_type": "code",
   "execution_count": null,
   "id": "831d6d9a",
   "metadata": {},
   "outputs": [],
   "source": []
  }
 ],
 "metadata": {
  "kernelspec": {
   "display_name": "Python 3 (ipykernel)",
   "language": "python",
   "name": "python3"
  },
  "language_info": {
   "codemirror_mode": {
    "name": "ipython",
    "version": 3
   },
   "file_extension": ".py",
   "mimetype": "text/x-python",
   "name": "python",
   "nbconvert_exporter": "python",
   "pygments_lexer": "ipython3",
   "version": "3.9.7"
  }
 },
 "nbformat": 4,
 "nbformat_minor": 5
}
