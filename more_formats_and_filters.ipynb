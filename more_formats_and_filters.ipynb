{
 "cells": [
  {
   "cell_type": "markdown",
   "id": "1e835c9e",
   "metadata": {},
   "source": [
    "## More data formats"
   ]
  },
  {
   "cell_type": "code",
   "execution_count": null,
   "id": "a1db1fad",
   "metadata": {},
   "outputs": [],
   "source": [
    "import os\n",
    "from osgeo import ogr\n",
    "import osgeopy as gp\n",
    "\n",
    "data_dir = r'osgeopy-data'"
   ]
  },
  {
   "cell_type": "code",
   "execution_count": null,
   "id": "acf7b0a4",
   "metadata": {},
   "outputs": [],
   "source": [
    "# A function to print out the layers in a data source.\n",
    "def print_layers(fn):\n",
    "    ds = ogr.Open(fn, 0)\n",
    "    if ds is None:\n",
    "        raise OSError('Could not open {}'.format(fn))\n",
    "    for i in range(ds.GetLayerCount()):\n",
    "        lyr = ds.GetLayer(i)\n",
    "        print('{0}: {1}'.format(i, lyr.GetName()))"
   ]
  },
  {
   "cell_type": "code",
   "execution_count": null,
   "id": "0c5981df",
   "metadata": {},
   "outputs": [],
   "source": [
    "# Try out the function.\n",
    "print_layers(os.path.join(data_dir, 'Washington', 'large_cities.geojson'))"
   ]
  },
  {
   "cell_type": "markdown",
   "id": "e1247858",
   "metadata": {},
   "source": [
    "### Esri file geodatabase"
   ]
  },
  {
   "cell_type": "code",
   "execution_count": null,
   "id": "3671148b",
   "metadata": {},
   "outputs": [],
   "source": [
    "# Print out layers in an Esri file geodatabase.\n",
    "fn = os.path.join(data_dir, 'global', 'natural_earth.gdb')\n",
    "gp.print_layers(fn)"
   ]
  },
  {
   "cell_type": "code",
   "execution_count": null,
   "id": "e46ac80e",
   "metadata": {},
   "outputs": [],
   "source": [
    "# Get a layer inside a feature dataset.\n",
    "ds = ogr.Open(fn)\n",
    "lyr = ds.GetLayer('countries_10m')"
   ]
  },
  {
   "cell_type": "code",
   "execution_count": null,
   "id": "0df53458",
   "metadata": {},
   "outputs": [],
   "source": [
    "# Print out some attributes to make sure it worked.\n",
    "gp.print_attributes(lyr, 5, ['NAME', 'POP_EST'])"
   ]
  },
  {
   "cell_type": "code",
   "execution_count": null,
   "id": "73088429",
   "metadata": {},
   "outputs": [],
   "source": [
    "# Export a feature class from geodatabase to a shapefile.\n",
    "out_folder = os.path.join(data_dir, 'global')\n",
    "gdb_ds = ogr.Open(fn)\n",
    "gdb_lyr = gdb_ds.GetLayerByName('countries_110m')\n",
    "shp_ds = ogr.Open(out_folder, 1)\n",
    "shp_ds.CopyLayer(gdb_lyr, 'countries_110m')\n",
    "del shp_ds, gdb_ds"
   ]
  },
  {
   "cell_type": "markdown",
   "id": "4dd8223a",
   "metadata": {},
   "source": [
    "## Web Feature Service"
   ]
  },
  {
   "cell_type": "code",
   "execution_count": null,
   "id": "4886bd32",
   "metadata": {},
   "outputs": [],
   "source": [
    "# Print out layers in a WFS.\n",
    "url = 'WFS:http://gis.srh.noaa.gov/arcgis/services/watchWarn/MapServer/WFSServer'\n",
    "gp.print_layers(url)"
   ]
  },
  {
   "cell_type": "code",
   "execution_count": null,
   "id": "00ea6f56",
   "metadata": {},
   "outputs": [],
   "source": [
    "# Get the first warning from the WFS. This might take a while because it has\n",
    "# to download all of the data first.\n",
    "ds = ogr.Open(url)\n",
    "lyr = ds.GetLayer(1)\n",
    "print(lyr.GetFeatureCount())\n",
    "feat = lyr.GetNextFeature()\n",
    "print(feat.GetField('prod_type'))"
   ]
  },
  {
   "cell_type": "code",
   "execution_count": null,
   "id": "ec64e1a1",
   "metadata": {},
   "outputs": [],
   "source": [
    "# Get the first warning from the WFS by limiting the returned features to 1.\n",
    "ds = ogr.Open(url + '?MAXFEATURES=1')\n",
    "lyr = ds.GetLayer(1)\n",
    "print(lyr.GetFeatureCount())"
   ]
  },
  {
   "cell_type": "markdown",
   "id": "5c7a4159",
   "metadata": {},
   "source": [
    "## Attribute filters"
   ]
  },
  {
   "cell_type": "code",
   "execution_count": null,
   "id": "ce6c91d2",
   "metadata": {},
   "outputs": [],
   "source": [
    "# Get the countries shapefile layer\n",
    "ds = ogr.Open(os.path.join(data_dir, 'global'))\n",
    "lyr = ds.GetLayer('ne_50m_admin_0_countries')"
   ]
  },
  {
   "cell_type": "code",
   "execution_count": null,
   "id": "d6c210c2",
   "metadata": {},
   "outputs": [],
   "source": [
    "# Apply a filter that finds countries in Asia and see how many records there\n",
    "# are now.\n",
    "lyr.SetAttributeFilter('continent = \"Asia\"')\n",
    "lyr.GetFeatureCount()"
   ]
  },
  {
   "cell_type": "code",
   "execution_count": null,
   "id": "f0ea47e5",
   "metadata": {},
   "outputs": [],
   "source": [
    "# You can still get a feature that is not in Asia by using its FID.\n",
    "lyr.GetFeature(2).GetField('name')"
   ]
  },
  {
   "cell_type": "code",
   "execution_count": null,
   "id": "ee53219b",
   "metadata": {},
   "outputs": [],
   "source": [
    "# Set a new filter that selects South American countries and show the results\n",
    "# in blue. The old filter is no longer in effect.\n",
    "lyr.SetAttributeFilter('continent = \"South America\"')"
   ]
  },
  {
   "cell_type": "code",
   "execution_count": null,
   "id": "a5823667",
   "metadata": {},
   "outputs": [],
   "source": [
    "# Clear all attribute filters.\n",
    "lyr.SetAttributeFilter(None)\n",
    "lyr.GetFeatureCount()"
   ]
  },
  {
   "cell_type": "markdown",
   "id": "35c91a51",
   "metadata": {},
   "source": [
    "## Spatial filters"
   ]
  },
  {
   "cell_type": "code",
   "execution_count": null,
   "id": "a14d557e",
   "metadata": {},
   "outputs": [],
   "source": [
    "# Get the Germany polygon.\n",
    "ds = ogr.Open(os.path.join(data_dir, 'global'))\n",
    "country_lyr = ds.GetLayer('ne_50m_admin_0_countries')\n",
    "\n",
    "country_lyr.SetAttributeFilter('name = \"Germany\"')\n",
    "feat = country_lyr.GetNextFeature()\n",
    "germany = feat.geometry().Clone()"
   ]
  },
  {
   "cell_type": "code",
   "execution_count": null,
   "id": "ba28d695",
   "metadata": {},
   "outputs": [],
   "source": [
    "city_lyr = ds.GetLayer('ne_50m_populated_places')\n",
    "city_lyr.GetFeatureCount()\n",
    "# Use the Germany polygon to set a spatial filter and draw the result as blue\n",
    "# circles.\n",
    "city_lyr.SetSpatialFilter(germany)\n",
    "city_lyr.GetFeatureCount()"
   ]
  },
  {
   "cell_type": "code",
   "execution_count": null,
   "id": "06258657",
   "metadata": {},
   "outputs": [],
   "source": [
    "# Add an attribute filter to find the cities with a population over 1,000,000\n",
    "# and draw them as red squares. Since the spatial filter is still in effect,\n",
    "# you should only get large cities in Germany.\n",
    "city_lyr.SetAttributeFilter('pop_min > 1000000')\n",
    "city_lyr.GetFeatureCount()"
   ]
  },
  {
   "cell_type": "code",
   "execution_count": null,
   "id": "4f49a20c",
   "metadata": {},
   "outputs": [],
   "source": [
    "# Remove the spatial filter so now you get global cities with a population\n",
    "# over 1,000,000. Draw the results as magenta triangles.\n",
    "city_lyr.SetSpatialFilter(None)\n",
    "city_lyr.GetFeatureCount()"
   ]
  },
  {
   "cell_type": "markdown",
   "id": "99897d90",
   "metadata": {},
   "source": [
    "### To clone or not to clone? "
   ]
  },
  {
   "cell_type": "code",
   "execution_count": null,
   "id": "c4c0063b",
   "metadata": {},
   "outputs": [],
   "source": [
    "# Get a sample layer and the first feature from it.\n",
    "ds = ogr.Open(os.path.join(data_dir, 'global'))\n",
    "lyr = ds.GetLayer('ne_50m_admin_0_countries')\n",
    "feat = lyr.GetNextFeature()\n",
    "\n",
    "# Now get the feature's geometry and also a clone of that geometry.\n",
    "geom = feat.geometry()\n",
    "geom_clone = feat.geometry().Clone()\n"
   ]
  },
  {
   "cell_type": "code",
   "execution_count": null,
   "id": "b2bd0be8",
   "metadata": {},
   "outputs": [],
   "source": [
    "# Set the feat variable to a new feature, so the original one is no longer\n",
    "# accessible.\n",
    "feat = lyr.GetNextFeature()\n",
    "\n",
    "# Try to get the area of the cloned polygon. This should work just fine.\n",
    "print(geom_clone.GetArea())"
   ]
  },
  {
   "cell_type": "code",
   "execution_count": null,
   "id": "a2944afa",
   "metadata": {},
   "outputs": [],
   "source": [
    "# Try to get the area of the original polygon. This should cause Python to\n",
    "# crash because the polygon is linked to the feature that is no longer\n",
    "# available.\n",
    "print(geom.GetArea())"
   ]
  },
  {
   "cell_type": "code",
   "execution_count": null,
   "id": "831d6d9a",
   "metadata": {},
   "outputs": [],
   "source": []
  }
 ],
 "metadata": {
  "kernelspec": {
   "display_name": "Python 3 (ipykernel)",
   "language": "python",
   "name": "python3"
  },
  "language_info": {
   "codemirror_mode": {
    "name": "ipython",
    "version": 3
   },
   "file_extension": ".py",
   "mimetype": "text/x-python",
   "name": "python",
   "nbconvert_exporter": "python",
   "pygments_lexer": "ipython3",
   "version": "3.9.7"
  }
 },
 "nbformat": 4,
 "nbformat_minor": 5
}
